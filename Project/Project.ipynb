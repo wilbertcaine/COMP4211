{
  "nbformat": 4,
  "nbformat_minor": 0,
  "metadata": {
    "colab": {
      "name": "Project.ipynb",
      "provenance": [],
      "collapsed_sections": [],
      "mount_file_id": "1bL2aFZE7ZKbyPRt3GUx35bz5_YK0OcXh",
      "authorship_tag": "ABX9TyNlt0UEx9aU5zEng+gEQjJ9",
      "include_colab_link": true
    },
    "kernelspec": {
      "name": "python3",
      "display_name": "Python 3"
    },
    "language_info": {
      "name": "python"
    },
    "accelerator": "GPU"
  },
  "cells": [
    {
      "cell_type": "markdown",
      "metadata": {
        "id": "view-in-github",
        "colab_type": "text"
      },
      "source": [
        "<a href=\"https://colab.research.google.com/github/wilbertcaine/COMP4211/blob/main/Project/Project.ipynb\" target=\"_parent\"><img src=\"https://colab.research.google.com/assets/colab-badge.svg\" alt=\"Open In Colab\"/></a>"
      ]
    },
    {
      "cell_type": "code",
      "metadata": {
        "colab": {
          "base_uri": "https://localhost:8080/"
        },
        "id": "zj4luAPGr0c0",
        "outputId": "1d494edd-93af-43c5-ae50-ee3fa9c933ac"
      },
      "source": [
        "# https://drive.google.com/file/d/199mVXHt5cxT68gBXCcucMjtJzCwvc8ud/view?usp=sharing\n",
        "# https://drive.google.com/file/d/1d2hJyvo2Go4FxK7br0exFQFdZ1eCexIA/view?usp=sharing\n",
        "# https://drive.google.com/file/d/1yjsMICWqHdEUhF758ndq0hLO96FrYWkR/view?usp=sharing\n",
        "%cd /content\n",
        "!mkdir -p dataset\n",
        "%cd /content/dataset\n",
        "!gdown --id 199mVXHt5cxT68gBXCcucMjtJzCwvc8ud\n",
        "!gdown --id 1d2hJyvo2Go4FxK7br0exFQFdZ1eCexIA\n",
        "!gdown --id 1yjsMICWqHdEUhF758ndq0hLO96FrYWkR\n",
        "%cd ../"
      ],
      "execution_count": 1,
      "outputs": [
        {
          "output_type": "stream",
          "name": "stdout",
          "text": [
            "/content\n",
            "/content/dataset\n",
            "Downloading...\n",
            "From: https://drive.google.com/uc?id=199mVXHt5cxT68gBXCcucMjtJzCwvc8ud\n",
            "To: /content/dataset/train.csv\n",
            "100% 7.62M/7.62M [00:00<00:00, 116MB/s]\n",
            "Downloading...\n",
            "From: https://drive.google.com/uc?id=1d2hJyvo2Go4FxK7br0exFQFdZ1eCexIA\n",
            "To: /content/dataset/Test_Jan.csv\n",
            "100% 124k/124k [00:00<00:00, 45.0MB/s]\n",
            "Downloading...\n",
            "From: https://drive.google.com/uc?id=1yjsMICWqHdEUhF758ndq0hLO96FrYWkR\n",
            "To: /content/dataset/Predict_Jan.csv\n",
            "100% 20.7k/20.7k [00:00<00:00, 39.1MB/s]\n",
            "/content\n"
          ]
        }
      ]
    },
    {
      "cell_type": "code",
      "metadata": {
        "id": "3WdaeGZWPlaF",
        "colab": {
          "base_uri": "https://localhost:8080/"
        },
        "outputId": "e49ac672-815f-4b59-b15c-12db7da14b4d"
      },
      "source": [
        "import os\n",
        "import pandas as pd\n",
        "import numpy as np\n",
        "from torch.utils.data import Dataset\n",
        "from torch.utils.data import DataLoader\n",
        "import torch\n",
        "import torch.nn as nn\n",
        "import torch.nn.functional as F\n",
        "import torch.optim as optim\n",
        "from torch.utils.data import Dataset\n",
        "\n",
        "!pip install torchsummaryX\n",
        "\n",
        "import matplotlib.pyplot as plt\n",
        "import os.path as osp\n",
        "from torchsummaryX import summary\n",
        "from torch.utils.tensorboard import SummaryWriter\n",
        "import random"
      ],
      "execution_count": 2,
      "outputs": [
        {
          "output_type": "stream",
          "name": "stdout",
          "text": [
            "Collecting torchsummaryX\n",
            "  Downloading torchsummaryX-1.3.0-py3-none-any.whl (3.6 kB)\n",
            "Requirement already satisfied: pandas in /usr/local/lib/python3.7/dist-packages (from torchsummaryX) (1.1.5)\n",
            "Requirement already satisfied: torch in /usr/local/lib/python3.7/dist-packages (from torchsummaryX) (1.10.0+cu111)\n",
            "Requirement already satisfied: numpy in /usr/local/lib/python3.7/dist-packages (from torchsummaryX) (1.19.5)\n",
            "Requirement already satisfied: pytz>=2017.2 in /usr/local/lib/python3.7/dist-packages (from pandas->torchsummaryX) (2018.9)\n",
            "Requirement already satisfied: python-dateutil>=2.7.3 in /usr/local/lib/python3.7/dist-packages (from pandas->torchsummaryX) (2.8.2)\n",
            "Requirement already satisfied: six>=1.5 in /usr/local/lib/python3.7/dist-packages (from python-dateutil>=2.7.3->pandas->torchsummaryX) (1.15.0)\n",
            "Requirement already satisfied: typing-extensions in /usr/local/lib/python3.7/dist-packages (from torch->torchsummaryX) (3.10.0.2)\n",
            "Installing collected packages: torchsummaryX\n",
            "Successfully installed torchsummaryX-1.3.0\n"
          ]
        }
      ]
    },
    {
      "cell_type": "code",
      "metadata": {
        "id": "Erhn50AnU9z3"
      },
      "source": [
        "def train_epoch(net, optimizer, loss_fn, dataloader, epoch, train_size, writer=None, device='cpu'):\n",
        "    ep_loss = 0.0\n",
        "    num_iter = len(dataloader)\n",
        "    net.train()\n",
        "    grad_max = 100.\n",
        "    for n_iter, (xs, y) in enumerate(dataloader):\n",
        "        curr_iter = epoch * num_iter + n_iter\n",
        "        xs, y = xs.to(device), y.to(device)\n",
        "        pred = net(xs) ## step 1. get output\n",
        "        loss = loss_fn(pred, y) ## step 2. compute loss\n",
        "        optimizer.zero_grad()\n",
        "        loss.backward() ## step 3. backpropagation\n",
        "        nn.utils.clip_grad_norm_(net.parameters(), grad_max) ## L2-norm gradient clipping\n",
        "        optimizer.step() ## step 4. update model weigth\n",
        "        if writer is not None:\n",
        "            writer.add_scalar('Loss/train', loss.data, curr_iter)\n",
        "        # print(\"\\n[ITER %d] LOSS: %.4f\" % (curr_iter, loss.data))\n",
        "        ep_loss += loss.data\n",
        "        if n_iter + 1 == train_size:\n",
        "            break\n",
        "    ep_loss /= train_size\n",
        "    if writer is not None:\n",
        "        writer.add_scalar('EpLoss/train', ep_loss, epoch)\n",
        "    return ep_loss\n",
        "\n",
        "@torch.no_grad()\n",
        "def val_epoch(net, loss_fn, dataloader, epoch, val_set, writer=None, device='cpu'):\n",
        "    ep_loss = 0.0\n",
        "    net.eval()\n",
        "    preds, ys = [], []\n",
        "    for n_iter, (xs, y) in enumerate(dataloader):\n",
        "        xs, y = xs.to(device), y.to(device)\n",
        "        pred = net(xs)\n",
        "        loss = loss_fn(pred, y)\n",
        "        ep_loss += loss.data\n",
        "    ep_loss /= len(dataloader)\n",
        "\n",
        "    if writer is not None:\n",
        "        writer.add_scalar('EpLoss/val', ep_loss, epoch)\n",
        "    return ep_loss\n",
        "\n",
        "def train(net, train_set, val_set, loss_fn, batch_size, lr, n_epoch, train_size, name='net'):\n",
        "    train_loader = DataLoader(train_set, batch_size=batch_size, shuffle=True)\n",
        "    val_loader = DataLoader(val_set, batch_size=1)\n",
        "\n",
        "    save_dir = f'drive/MyDrive/COMP4211/project/logs/{name}_{batch_size}_{lr}'\n",
        "    writer = SummaryWriter(log_dir=osp.join(save_dir, 'log'))\n",
        "    device = 'cpu' if not torch.cuda.is_available() else 'cuda'\n",
        "    net = net.to(device)\n",
        "    optimizer = torch.optim.AdamW(net.parameters(), lr=lr)\n",
        "\n",
        "    train_ep_losses, val_ep_losses = [], []\n",
        "    min_loss = 0\n",
        "    argmin_loss = 0\n",
        "    for epoch in range(n_epoch):\n",
        "        train_loss = train_epoch(net, optimizer, loss_fn, train_loader, epoch, train_size, writer, device)\n",
        "        val_loss = val_epoch(net, loss_fn, val_loader, epoch, val_set, writer, device)\n",
        "        train_ep_losses.append(train_loss)\n",
        "        val_ep_losses.append(val_loss)\n",
        "        if (epoch + 1) % 5 == 0:\n",
        "            print(\"[EP \\t%d] \\t\\tTrain LOSS: \\t%.4f \\t\\tVal LOSS: \\t%.4f\" % (epoch + 1, train_loss, val_loss))\n",
        "            os.makedirs(osp.join(save_dir, 'weights'), exist_ok=True)\n",
        "            torch.save(net.state_dict(), osp.join(save_dir, 'weights/ep%d.pth' % (epoch + 1)))\n",
        "            if argmin_loss == 0:\n",
        "                min_loss = val_loss\n",
        "            if min_loss >= val_loss:\n",
        "                min_loss = val_loss\n",
        "                argmin_loss = epoch + 1\n",
        "    \n",
        "    plt.plot(torch.tensor(train_ep_losses).cpu().numpy(), label='train')\n",
        "    plt.plot(torch.tensor(val_ep_losses).cpu().numpy(), label='val')\n",
        "    plt.xlabel('n_epoch')\n",
        "    plt.legend()\n",
        "    plt.show()\n",
        "    return argmin_loss\n",
        "\n",
        "@torch.no_grad()\n",
        "def test(net, loss_fn, test_data, batch_size, lr, epoch=90, name='net'):\n",
        "    net.eval()\n",
        "    device = 'cpu' if not torch.cuda.is_available() else 'cuda'\n",
        "    net = net.to(device)\n",
        "    save_dir = f'drive/MyDrive/COMP4211/project/logs/{name}_{batch_size}_{lr}'\n",
        "    net.load_state_dict(torch.load(osp.join(save_dir, 'weights/ep%d.pth' % epoch)))\n",
        "    test_loader = DataLoader(test_set, batch_size=1)\n",
        "    ep_loss = 0.0\n",
        "    preds, ys = [], []\n",
        "    for n_iter, (xs, y) in enumerate(test_loader):\n",
        "        xs, y = xs.to(device), y.to(device)\n",
        "        pred = net(xs)\n",
        "        loss = loss_fn(pred, y)\n",
        "        ep_loss += loss.data\n",
        "    ep_loss /= len(test_loader)\n",
        "    return ep_loss"
      ],
      "execution_count": 3,
      "outputs": []
    },
    {
      "cell_type": "markdown",
      "metadata": {
        "id": "qacsycRNbddB"
      },
      "source": [
        "# FC_Net"
      ]
    },
    {
      "cell_type": "code",
      "metadata": {
        "id": "L1yJgcOiuASt"
      },
      "source": [
        "class FC_Net_Dataset(Dataset):\n",
        "    def __init__(self, split, eval_len=1, csv_dir='dataset/train.csv'):\n",
        "        \"\"\"\n",
        "        Keyword arguments:\n",
        "        split -- an integer either 0, 1, or 2 which indicates train, validation, or test respectively\n",
        "        eval_len -- an integer indicating the number of future timestamp to be predicted\n",
        "        \"\"\"\n",
        "        super(FC_Net_Dataset, self).__init__()\n",
        "        df = pd.read_csv(csv_dir)\n",
        "        df['datetime']=pd.to_datetime(df['datetime'])\n",
        "        df['week_day']=df['datetime'].dt.dayofweek\n",
        "        # df['date']=df['datetime'].dt.day\n",
        "        # df['month']=df['datetime'].dt.month\n",
        "        df['hour']=df['datetime'].dt.hour\n",
        "        df = df.drop(columns=\"datetime\")\n",
        "        data = np.split(df, [int(.7*len(df)), int(.85*len(df))])\n",
        "        self.data = np.array(data[split])\n",
        "        self.eval_len = eval_len\n",
        "\n",
        "    def __getitem__(self, idx):\n",
        "        idx = np.random.randint(1, len(self.data)-1 - self.eval_len)\n",
        "        prev_nat_demand = np.reshape(self.data[idx-1][0], -1)\n",
        "        curr_feat = np.concatenate((prev_nat_demand, self.data[idx][1:]))\n",
        "        curr_nat_demand = np.reshape(self.data[idx][0], -1)\n",
        "        return curr_feat, curr_nat_demand\n",
        "\n",
        "    def __len__(self):\n",
        "        return len(self.data)"
      ],
      "execution_count": null,
      "outputs": []
    },
    {
      "cell_type": "code",
      "metadata": {
        "id": "EwVtd5j6awL6"
      },
      "source": [
        "class FC_Net(nn.Module):\n",
        "    def __init__(self):\n",
        "        super(FC_Net, self).__init__()\n",
        "\n",
        "        self.fc1 = nn.Linear(18, 32)\n",
        "        self.fc2 = nn.Linear(32, 32)\n",
        "        self.bn1 = nn.BatchNorm1d(32, affine=True)\n",
        "        self.fc3 = nn.Linear(32, 8)\n",
        "        self.bn2 = nn.BatchNorm1d(8, affine=True)\n",
        "        self.fc4 = nn.Linear(8, 1)\n",
        "        self.relu = nn.ReLU(inplace=True)\n",
        " \n",
        "    def forward(self, x):\n",
        "        x = x.float()\n",
        "\n",
        "        x = self.fc1(x)\n",
        "        x = self.relu(x)\n",
        "\n",
        "        x = self.fc2(x)\n",
        "        x = self.bn1(x)\n",
        "        x = self.relu(x)\n",
        "\n",
        "        x = self.fc3(x)\n",
        "        x = self.bn2(x)\n",
        "        x = self.relu(x)\n",
        "\n",
        "        x = self.fc4(x)\n",
        "        x = self.relu(x)\n",
        "        \n",
        "        return x"
      ],
      "execution_count": null,
      "outputs": []
    },
    {
      "cell_type": "code",
      "metadata": {
        "colab": {
          "base_uri": "https://localhost:8080/",
          "height": 620
        },
        "id": "wZXCY3g9PoCn",
        "outputId": "13f95206-8e6c-408a-c3c5-b8691ff54e59"
      },
      "source": [
        "train_set = FC_Net_Dataset(split=0)\n",
        "val_set = FC_Net_Dataset(split=1)\n",
        "\n",
        "np.random.seed(1)\n",
        "fc_net = FC_Net();\n",
        "loss_fn = nn.L1Loss()\n",
        "batch_size, n_epoch, lr = 32, 100, 1e-3\n",
        "train_size, val_size = 365, 365\n",
        "argmin_loss = train(fc_net, train_set, val_set, loss_fn, batch_size, lr, n_epoch, train_size, name='fc_net')"
      ],
      "execution_count": null,
      "outputs": [
        {
          "output_type": "stream",
          "name": "stdout",
          "text": [
            "[EP \t5] \t\tTrain LOSS: \t1097.5331 \t\tVal LOSS: \t1140.0734\n",
            "[EP \t10] \t\tTrain LOSS: \t935.8558 \t\tVal LOSS: \t932.4814\n",
            "[EP \t15] \t\tTrain LOSS: \t706.9833 \t\tVal LOSS: \t807.0226\n",
            "[EP \t20] \t\tTrain LOSS: \t466.4998 \t\tVal LOSS: \t526.4249\n",
            "[EP \t25] \t\tTrain LOSS: \t315.2100 \t\tVal LOSS: \t392.2273\n",
            "[EP \t30] \t\tTrain LOSS: \t212.7604 \t\tVal LOSS: \t217.4704\n",
            "[EP \t35] \t\tTrain LOSS: \t125.7602 \t\tVal LOSS: \t116.2987\n",
            "[EP \t40] \t\tTrain LOSS: \t56.9699 \t\tVal LOSS: \t143.5609\n",
            "[EP \t45] \t\tTrain LOSS: \t46.0259 \t\tVal LOSS: \t62.0779\n",
            "[EP \t50] \t\tTrain LOSS: \t39.3051 \t\tVal LOSS: \t80.4563\n",
            "[EP \t55] \t\tTrain LOSS: \t35.8394 \t\tVal LOSS: \t40.7716\n",
            "[EP \t60] \t\tTrain LOSS: \t35.7463 \t\tVal LOSS: \t57.0471\n",
            "[EP \t65] \t\tTrain LOSS: \t34.1121 \t\tVal LOSS: \t49.0247\n",
            "[EP \t70] \t\tTrain LOSS: \t32.6266 \t\tVal LOSS: \t54.8916\n",
            "[EP \t75] \t\tTrain LOSS: \t33.2204 \t\tVal LOSS: \t49.4338\n",
            "[EP \t80] \t\tTrain LOSS: \t32.0463 \t\tVal LOSS: \t23.5291\n",
            "[EP \t85] \t\tTrain LOSS: \t32.7897 \t\tVal LOSS: \t29.2587\n",
            "[EP \t90] \t\tTrain LOSS: \t31.9406 \t\tVal LOSS: \t32.9994\n",
            "[EP \t95] \t\tTrain LOSS: \t31.5224 \t\tVal LOSS: \t45.6155\n",
            "[EP \t100] \t\tTrain LOSS: \t32.1488 \t\tVal LOSS: \t35.4233\n"
          ]
        },
        {
          "output_type": "display_data",
          "data": {
            "image/png": "[encoded data removed]",
            "text/plain": [
              "<Figure size 432x288 with 1 Axes>"
            ]
          },
          "metadata": {
            "needs_background": "light"
          }
        }
      ]
    },
    {
      "cell_type": "code",
      "metadata": {
        "colab": {
          "base_uri": "https://localhost:8080/"
        },
        "id": "smVPMOa-gODS",
        "outputId": "7a5de962-9366-4c9b-8061-e0aee6f4eb13"
      },
      "source": [
        "net = FC_Net()\n",
        "test_set = FC_Net_Dataset(split=2)\n",
        "test_loss = test(net, loss_fn, test_set, batch_size, lr, epoch=argmin_loss, name='fc_net')\n",
        "print(\"Test LOSS: \\t%.4f\" % (test_loss))"
      ],
      "execution_count": null,
      "outputs": [
        {
          "output_type": "stream",
          "name": "stdout",
          "text": [
            "Test LOSS: \t28.3152\n"
          ]
        }
      ]
    },
    {
      "cell_type": "markdown",
      "metadata": {
        "id": "x3YDAynvd0B0"
      },
      "source": [
        "# R_Net"
      ]
    },
    {
      "cell_type": "code",
      "metadata": {
        "id": "jUblweVfd1Z_"
      },
      "source": [
        "class R_Net_Dataset(Dataset):\n",
        "    def __init__(self, split, eval_len=1, window_size=5, csv_dir='dataset/train.csv'):\n",
        "        \"\"\"\n",
        "        Keyword arguments:\n",
        "        split -- an integer either 0, 1, or 2 which indicates train, validation, or test respectively\n",
        "        eval_len -- an integer indicating the number of future timestamp to be predicted\n",
        "        \"\"\"\n",
        "        super(R_Net_Dataset, self).__init__()\n",
        "        df = pd.read_csv(csv_dir)\n",
        "        df['datetime']=pd.to_datetime(df['datetime'])\n",
        "        df['week_day']=df['datetime'].dt.dayofweek\n",
        "        # df['date']=df['datetime'].dt.day\n",
        "        # df['month']=df['datetime'].dt.month\n",
        "        df['hour']=df['datetime'].dt.hour\n",
        "        df = df.drop(columns=\"datetime\")\n",
        "        data = np.split(df, [int(.7*len(df)), int(.85*len(df))])\n",
        "        self.data = np.array(data[split])\n",
        "        self.eval_len = eval_len\n",
        "        self.window_size = window_size\n",
        "\n",
        "    def __getitem__(self, idx):\n",
        "        min_start = self.window_size+1\n",
        "        max_start = len(self.data)-1 - self.eval_len\n",
        "        idx = np.random.randint(min_start, max_start)\n",
        "        prev_nat_demand = np.reshape(self.data[idx-1 - self.window_size: idx-1, 0], (-1,1))\n",
        "        curr_feat = np.concatenate((prev_nat_demand, self.data[idx - self.window_size: idx, 1:]), axis=1)\n",
        "        curr_nat_demand = np.reshape(self.data[idx, 0], -1)\n",
        "        return curr_feat, curr_nat_demand\n",
        "\n",
        "    def __len__(self):\n",
        "        return len(self.data)"
      ],
      "execution_count": 4,
      "outputs": []
    },
    {
      "cell_type": "code",
      "metadata": {
        "id": "SyZiZr_Ska9Q"
      },
      "source": [
        "class R_Net(nn.Module):\n",
        "    def __init__(self, input_size=18, hidden_size=32, dropout=0, num_layers=1):\n",
        "        super(R_Net, self).__init__()\n",
        "\n",
        "        self.lstm = nn.LSTM(\n",
        "            input_size=input_size,\n",
        "            hidden_size=hidden_size,\n",
        "            num_layers=num_layers,\n",
        "            dropout=dropout,\n",
        "            batch_first=True\n",
        "        )\n",
        "        self.fc1 = nn.Linear(hidden_size, 32)\n",
        "        self.fc2 = nn.Linear(32, 32)\n",
        "        self.bn1 = nn.BatchNorm1d(32, affine=True)\n",
        "        self.fc3 = nn.Linear(32, 8)\n",
        "        self.bn2 = nn.BatchNorm1d(8, affine=True)\n",
        "        self.fc4 = nn.Linear(8, 1)\n",
        "        self.relu = nn.ReLU(inplace=True)\n",
        " \n",
        "    def forward(self, x):\n",
        "        x, _ = self.lstm(x.double())\n",
        "        x = self.fc1(x[:,-1])\n",
        "        x = self.relu(x)\n",
        "\n",
        "        x = self.fc2(x)\n",
        "        x = self.bn1(x)\n",
        "        x = self.relu(x)\n",
        "\n",
        "        x = self.fc3(x)\n",
        "        x = self.bn2(x)\n",
        "        x = self.relu(x)\n",
        "\n",
        "        x = self.fc4(x)\n",
        "        x = self.relu(x)\n",
        "        \n",
        "        return x"
      ],
      "execution_count": 5,
      "outputs": []
    },
    {
      "cell_type": "code",
      "metadata": {
        "colab": {
          "base_uri": "https://localhost:8080/"
        },
        "id": "HLWCQtowQqKo",
        "outputId": "8d864d16-0242-43cf-e66f-53190f76a7e7"
      },
      "source": [
        "train_set = R_Net_Dataset(split=0)\n",
        "val_set = R_Net_Dataset(split=1)\n",
        "\n",
        "random.seed(1)\n",
        "np.random.seed(1)\n",
        "r_net = R_Net();\n",
        "r_net.double()\n",
        "loss_fn = nn.L1Loss()\n",
        "batch_size, n_epoch, lr = 32, 200, 5e-3\n",
        "train_size, val_size = 365, 365\n",
        "argmin_loss = train(r_net, train_set, val_set, loss_fn, batch_size, lr, n_epoch, train_size, name='r_net')"
      ],
      "execution_count": null,
      "outputs": [
        {
          "output_type": "stream",
          "name": "stdout",
          "text": [
            "[EP \t5] \t\tTrain LOSS: \t748.1106 \t\tVal LOSS: \t793.2274\n"
          ]
        }
      ]
    },
    {
      "cell_type": "code",
      "metadata": {
        "id": "Yb1pdxmYnuWc"
      },
      "source": [
        "net = R_Net()\n",
        "test_set = R_Net_Dataset(split=2)\n",
        "test_loss = test(net, loss_fn, test_set, batch_size, lr, epoch=argmin_loss, name='r_net')\n",
        "print(\"Test LOSS: \\t%.4f\" % (test_loss))"
      ],
      "execution_count": null,
      "outputs": []
    },
    {
      "cell_type": "markdown",
      "metadata": {
        "id": "AprDSL4TlZJa"
      },
      "source": [
        "# MB_Net"
      ]
    },
    {
      "cell_type": "code",
      "metadata": {
        "colab": {
          "base_uri": "https://localhost:8080/"
        },
        "id": "cnOarW-lm0C4",
        "outputId": "582e92e8-fe73-47b9-c141-aec2390839cd"
      },
      "source": [
        "    def __getitem__(self, idx):\n",
        "        min_start = self.window_size+1\n",
        "        max_start = len(self.data)-1 - self.eval_len\n",
        "        idx = np.random.randint(min_start, max_start)\n",
        "        prev_nat_demand = np.reshape(self.data[idx-1 - self.window_size: idx-1, 0], (-1,1))\n",
        "        curr_feat = np.concatenate((prev_nat_demand, self.data[idx - self.window_size: idx, 1:]), axis=1)\n",
        "        curr_nat_demand = np.reshape(self.data[idx, 0], -1)\n",
        "        return curr_feat, curr_nat_demand\n",
        "\n",
        "class MB_Net_Dataset(Dataset):\n",
        "    def __init__(self, split, eval_len=1, mb_len=5, window_size=5, csv_dir='dataset/train.csv'):\n",
        "        \"\"\"\n",
        "        Keyword arguments:\n",
        "        split -- an integer either 0, 1, or 2 which indicates train, validation, or test respectively\n",
        "        eval_len -- an integer indicating the number of future timestamp to be predicted\n",
        "        \"\"\"\n",
        "        super(MB_Net_Dataset, self).__init__()\n",
        "        df = pd.read_csv(csv_dir)\n",
        "        df['datetime']=pd.to_datetime(df['datetime'])\n",
        "        df['week_day']=df['datetime'].dt.dayofweek\n",
        "        # df['date']=df['datetime'].dt.day\n",
        "        # df['month']=df['datetime'].dt.month\n",
        "        df['hour']=df['datetime'].dt.hour\n",
        "        df = df.drop(columns=\"datetime\")\n",
        "        data = np.split(df, [int(.7*len(df)), int(.85*len(df))])\n",
        "        self.data = np.array(data[split])\n",
        "        self.eval_len = eval_len\n",
        "        self.window_size = window_size\n",
        "        self.mb_len = mb_len\n",
        "\n",
        "    def __getitem__(self, idx):\n",
        "        min_start = 1 + self.window_size + self.mb_len\n",
        "        max_start = len(self.data)-1 - self.eval_len\n",
        "        idx = np.random.randint(min_start, max_start)\n",
        "        prev_nat_demand = np.reshape(self.data[idx-1 - self.window_size - self.mb_len: idx-1, 0], (-1,1))\n",
        "        curr_feat = np.concatenate((prev_nat_demand, self.data[idx - self.window_size - self.mb_len: idx, 1:]), axis=1)\n",
        "        curr_nat_demand = np.reshape(self.data[idx, 0], -1)\n",
        "        return torch.tensor(curr_feat, dtype=torch.float64), torch.tensor(curr_nat_demand, dtype=torch.float64)\n",
        "\n",
        "    def __len__(self):\n",
        "        return len(self.data)\n",
        "\n",
        "a = MB_Net_Dataset(split=0)\n",
        "for i, (x,y) in enumerate(DataLoader(a, batch_size=1)):\n",
        "    print(x.shape)\n",
        "    print(y.shape)\n",
        "    break"
      ],
      "execution_count": 138,
      "outputs": [
        {
          "output_type": "stream",
          "name": "stdout",
          "text": [
            "torch.Size([1, 25, 18])\n",
            "torch.Size([1, 1])\n"
          ]
        }
      ]
    },
    {
      "cell_type": "code",
      "metadata": {
        "id": "k1Nb6mEcnL4j"
      },
      "source": [
        "class MB_Net(nn.Module):\n",
        "    def __init__(self, input_size=18, hidden_size=32, dropout=0, num_layers=1):\n",
        "        super(R_Net, self).__init__()\n",
        "\n",
        "        self.lstm = nn.LSTM(\n",
        "            input_size=input_size,\n",
        "            hidden_size=hidden_size,\n",
        "            num_layers=num_layers,\n",
        "            dropout=dropout,\n",
        "            batch_first=True\n",
        "        )\n",
        "        self.fc1 = nn.Linear(hidden_size, 1)\n",
        "        self.relu = nn.ReLU(inplace=True)\n",
        " \n",
        "    def forward(self, x):\n",
        "        x, _ = self.lstm(x.double())\n",
        "        x = self.fc1(x[:,-1])\n",
        "        x = self.relu(x)\n",
        "        \n",
        "        return x"
      ],
      "execution_count": null,
      "outputs": []
    }
  ]
}