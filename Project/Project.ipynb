{
  "nbformat": 4,
  "nbformat_minor": 0,
  "metadata": {
    "colab": {
      "name": "Project.ipynb",
      "provenance": [],
      "collapsed_sections": [
        "qacsycRNbddB"
      ],
      "mount_file_id": "1bL2aFZE7ZKbyPRt3GUx35bz5_YK0OcXh",
      "authorship_tag": "ABX9TyN2WN/X6pn9183L0JTlk9M4",
      "include_colab_link": true
    },
    "kernelspec": {
      "name": "python3",
      "display_name": "Python 3"
    },
    "language_info": {
      "name": "python"
    }
  },
  "cells": [
    {
      "cell_type": "markdown",
      "metadata": {
        "id": "view-in-github",
        "colab_type": "text"
      },
      "source": [
        "<a href=\"https://colab.research.google.com/github/wilbertcaine/COMP4211/blob/main/Project/Project.ipynb\" target=\"_parent\"><img src=\"https://colab.research.google.com/assets/colab-badge.svg\" alt=\"Open In Colab\"/></a>"
      ]
    },
    {
      "cell_type": "markdown",
      "metadata": {
        "id": "BBX0OJYZuYqq"
      },
      "source": [
        "# Setup"
      ]
    },
    {
      "cell_type": "code",
      "metadata": {
        "colab": {
          "base_uri": "https://localhost:8080/"
        },
        "id": "zj4luAPGr0c0",
        "outputId": "abde26b3-5848-449d-a1d4-2a1f5244d87f"
      },
      "source": [
        "# https://drive.google.com/file/d/199mVXHt5cxT68gBXCcucMjtJzCwvc8ud/view?usp=sharing\n",
        "# https://drive.google.com/file/d/1d2hJyvo2Go4FxK7br0exFQFdZ1eCexIA/view?usp=sharing\n",
        "# https://drive.google.com/file/d/1yjsMICWqHdEUhF758ndq0hLO96FrYWkR/view?usp=sharing\n",
        "%cd /content\n",
        "!mkdir -p dataset\n",
        "%cd /content/dataset\n",
        "!gdown --id 199mVXHt5cxT68gBXCcucMjtJzCwvc8ud\n",
        "!gdown --id 1d2hJyvo2Go4FxK7br0exFQFdZ1eCexIA\n",
        "!gdown --id 1yjsMICWqHdEUhF758ndq0hLO96FrYWkR\n",
        "%cd ../"
      ],
      "execution_count": 2,
      "outputs": [
        {
          "output_type": "stream",
          "name": "stdout",
          "text": [
            "/content\n",
            "/content/dataset\n",
            "Downloading...\n",
            "From: https://drive.google.com/uc?id=199mVXHt5cxT68gBXCcucMjtJzCwvc8ud\n",
            "To: /content/dataset/train.csv\n",
            "100% 7.62M/7.62M [00:00<00:00, 24.3MB/s]\n",
            "Downloading...\n",
            "From: https://drive.google.com/uc?id=1d2hJyvo2Go4FxK7br0exFQFdZ1eCexIA\n",
            "To: /content/dataset/Test_Jan.csv\n",
            "100% 124k/124k [00:00<00:00, 3.96MB/s]\n",
            "Downloading...\n",
            "From: https://drive.google.com/uc?id=1yjsMICWqHdEUhF758ndq0hLO96FrYWkR\n",
            "To: /content/dataset/Predict_Jan.csv\n",
            "100% 20.7k/20.7k [00:00<00:00, 5.87MB/s]\n",
            "/content\n"
          ]
        }
      ]
    },
    {
      "cell_type": "code",
      "metadata": {
        "id": "3WdaeGZWPlaF",
        "colab": {
          "base_uri": "https://localhost:8080/"
        },
        "outputId": "7bfab087-557b-4cd7-9fad-1444d1fb7421"
      },
      "source": [
        "import os\n",
        "import pandas as pd\n",
        "import numpy as np\n",
        "from torch.utils.data import Dataset\n",
        "from torch.utils.data import DataLoader\n",
        "import torch\n",
        "import torch.nn as nn\n",
        "import torch.nn.functional as F\n",
        "import torch.optim as optim\n",
        "from torch.optim.lr_scheduler import ReduceLROnPlateau\n",
        "from torch.utils.data import Dataset\n",
        "\n",
        "!pip install torchsummaryX\n",
        "\n",
        "import matplotlib.pyplot as plt\n",
        "import os.path as osp\n",
        "from torchsummaryX import summary\n",
        "from torch.utils.tensorboard import SummaryWriter\n",
        "import random\n",
        "import matplotlib.pyplot as plt"
      ],
      "execution_count": 3,
      "outputs": [
        {
          "output_type": "stream",
          "name": "stdout",
          "text": [
            "Collecting torchsummaryX\n",
            "  Downloading torchsummaryX-1.3.0-py3-none-any.whl (3.6 kB)\n",
            "Requirement already satisfied: pandas in /usr/local/lib/python3.7/dist-packages (from torchsummaryX) (1.1.5)\n",
            "Requirement already satisfied: numpy in /usr/local/lib/python3.7/dist-packages (from torchsummaryX) (1.19.5)\n",
            "Requirement already satisfied: torch in /usr/local/lib/python3.7/dist-packages (from torchsummaryX) (1.10.0+cu111)\n",
            "Requirement already satisfied: pytz>=2017.2 in /usr/local/lib/python3.7/dist-packages (from pandas->torchsummaryX) (2018.9)\n",
            "Requirement already satisfied: python-dateutil>=2.7.3 in /usr/local/lib/python3.7/dist-packages (from pandas->torchsummaryX) (2.8.2)\n",
            "Requirement already satisfied: six>=1.5 in /usr/local/lib/python3.7/dist-packages (from python-dateutil>=2.7.3->pandas->torchsummaryX) (1.15.0)\n",
            "Requirement already satisfied: typing-extensions in /usr/local/lib/python3.7/dist-packages (from torch->torchsummaryX) (3.10.0.2)\n",
            "Installing collected packages: torchsummaryX\n",
            "Successfully installed torchsummaryX-1.3.0\n"
          ]
        }
      ]
    },
    {
      "cell_type": "code",
      "metadata": {
        "id": "Erhn50AnU9z3"
      },
      "source": [
        "def train_epoch(net, optimizer, loss_fn, dataloader, epoch, train_size, writer=None, device='cpu'):\n",
        "    ep_loss = 0.0\n",
        "    num_iter = len(dataloader)\n",
        "    net.train()\n",
        "    grad_max = 100.\n",
        "    for n_iter, (xs, y) in enumerate(dataloader):\n",
        "        curr_iter = epoch * num_iter + n_iter\n",
        "        xs, y = xs.to(device), y.to(device)\n",
        "        pred = net(xs) ## step 1. get output\n",
        "        loss = loss_fn(pred, y) ## step 2. compute loss\n",
        "        optimizer.zero_grad()\n",
        "        loss.backward() ## step 3. backpropagation\n",
        "        nn.utils.clip_grad_norm_(net.parameters(), grad_max) ## L2-norm gradient clipping\n",
        "        optimizer.step() ## step 4. update model weigth\n",
        "        if writer is not None:\n",
        "            writer.add_scalar('Loss/train', loss.data, curr_iter)\n",
        "        # print(\"\\n[ITER %d] LOSS: %.4f\" % (curr_iter, loss.data))\n",
        "        ep_loss += loss.data\n",
        "        if n_iter + 1 == train_size:\n",
        "            break\n",
        "    ep_loss /= train_size\n",
        "    if writer is not None:\n",
        "        writer.add_scalar('EpLoss/train', ep_loss, epoch)\n",
        "    return ep_loss\n",
        "\n",
        "@torch.no_grad()\n",
        "def val_epoch(net, loss_fn, dataloader, epoch, val_set, writer=None, device='cpu'):\n",
        "    ep_loss = 0.0\n",
        "    net.eval()\n",
        "    preds, ys = [], []\n",
        "    for n_iter, (xs, y) in enumerate(dataloader):\n",
        "        xs, y = xs.to(device), y.to(device)\n",
        "        pred = net(xs)\n",
        "        loss = loss_fn(pred, y)\n",
        "        ep_loss += loss.data\n",
        "    ep_loss /= len(dataloader)\n",
        "\n",
        "    if writer is not None:\n",
        "        writer.add_scalar('EpLoss/val', ep_loss, epoch)\n",
        "    return ep_loss\n",
        "\n",
        "def train(net, train_set, val_set, loss_fn, batch_size, lr, n_epoch, train_size, name='net'):\n",
        "    train_loader = DataLoader(train_set, batch_size=batch_size, shuffle=True)\n",
        "    val_loader = DataLoader(val_set, batch_size=1)\n",
        "\n",
        "    save_dir = f'drive/MyDrive/COMP4211/project/logs/{name}_{batch_size}_{lr}'\n",
        "    writer = SummaryWriter(log_dir=osp.join(save_dir, 'log'))\n",
        "    device = 'cpu' if not torch.cuda.is_available() else 'cuda'\n",
        "    net = net.to(device)\n",
        "    optimizer = torch.optim.AdamW(net.parameters(), lr=lr)\n",
        "\n",
        "    train_ep_losses, val_ep_losses = [], []\n",
        "    min_loss = 0\n",
        "    argmin_loss = 0\n",
        "    for epoch in range(n_epoch):\n",
        "        train_loss = train_epoch(net, optimizer, loss_fn, train_loader, epoch, train_size, writer, device)\n",
        "        val_loss = val_epoch(net, loss_fn, val_loader, epoch, val_set, writer, device)\n",
        "        train_ep_losses.append(train_loss)\n",
        "        val_ep_losses.append(val_loss)\n",
        "        if (epoch + 1) % 5 == 0:\n",
        "            print(\"[EP \\t%d] \\t\\tTrain LOSS: \\t%.4f \\t\\tVal LOSS: \\t%.4f\" % (epoch + 1, train_loss, val_loss))\n",
        "            os.makedirs(osp.join(save_dir, 'weights'), exist_ok=True)\n",
        "            torch.save(net.state_dict(), osp.join(save_dir, 'weights/ep%d.pth' % (epoch + 1)))\n",
        "            if argmin_loss == 0:\n",
        "                min_loss = val_loss\n",
        "            if min_loss >= val_loss:\n",
        "                min_loss = val_loss\n",
        "                argmin_loss = epoch + 1\n",
        "    \n",
        "    plt.plot(torch.tensor(train_ep_losses).cpu().numpy(), label='train')\n",
        "    plt.plot(torch.tensor(val_ep_losses).cpu().numpy(), label='val')\n",
        "    plt.xlabel('n_epoch')\n",
        "    plt.legend()\n",
        "    plt.show()\n",
        "    return argmin_loss\n",
        "\n",
        "@torch.no_grad()\n",
        "def test(net, loss_fn, test_data, batch_size, lr, epoch=90, name='net'):\n",
        "    net.eval()\n",
        "    device = 'cpu' if not torch.cuda.is_available() else 'cuda'\n",
        "    net = net.to(device)\n",
        "    save_dir = f'drive/MyDrive/COMP4211/project/logs/{name}_{batch_size}_{lr}'\n",
        "    net.load_state_dict(torch.load(osp.join(save_dir, 'weights/ep%d.pth' % epoch)))\n",
        "    test_loader = DataLoader(test_set, batch_size=1)\n",
        "    ep_loss = 0.0\n",
        "    preds, ys = [], []\n",
        "    for n_iter, (xs, y) in enumerate(test_loader):\n",
        "        xs, y = xs.to(device), y.to(device)\n",
        "        pred = net(xs)\n",
        "        loss = loss_fn(pred, y)\n",
        "        ep_loss += loss.data\n",
        "    ep_loss /= len(test_loader)\n",
        "    return ep_loss"
      ],
      "execution_count": 4,
      "outputs": []
    },
    {
      "cell_type": "markdown",
      "metadata": {
        "id": "8Ni6BeiFXlSX"
      },
      "source": [
        "# Prev"
      ]
    },
    {
      "cell_type": "code",
      "metadata": {
        "colab": {
          "base_uri": "https://localhost:8080/"
        },
        "id": "L0aMTLelXptL",
        "outputId": "bbab4ed2-152d-4dde-a605-3d6e7bf3299a"
      },
      "source": [
        "df = pd.read_csv('dataset/train.csv')\n",
        "df = df['nat_demand']\n",
        "data = np.split(df, [int(.7*len(df)), int(.85*len(df))])\n",
        "curr = np.array(data[2][1:])\n",
        "prev = np.array(data[2][:-1])\n",
        "dist = np.linalg.norm(curr-prev, ord=1)/len(curr)\n",
        "print(dist)"
      ],
      "execution_count": null,
      "outputs": [
        {
          "output_type": "stream",
          "name": "stdout",
          "text": [
            "46.833183216570205\n"
          ]
        }
      ]
    },
    {
      "cell_type": "markdown",
      "metadata": {
        "id": "qacsycRNbddB"
      },
      "source": [
        "# FC_Net"
      ]
    },
    {
      "cell_type": "code",
      "metadata": {
        "id": "L1yJgcOiuASt"
      },
      "source": [
        "class FC_Net_Dataset(Dataset):\n",
        "    def __init__(self, split, eval_len=1, csv_dir='dataset/train.csv'):\n",
        "        \"\"\"\n",
        "        Keyword arguments:\n",
        "        split -- an integer either 0, 1, or 2 which indicates train, validation, or test respectively\n",
        "        eval_len -- an integer indicating the number of future timestamp to be predicted\n",
        "        \"\"\"\n",
        "        super(FC_Net_Dataset, self).__init__()\n",
        "        df = pd.read_csv(csv_dir)\n",
        "        df['datetime']=pd.to_datetime(df['datetime'])\n",
        "        df['week_day']=df['datetime'].dt.dayofweek\n",
        "        df['hour']=df['datetime'].dt.hour\n",
        "        df = df.drop(columns=\"datetime\")\n",
        "        data = np.split(df, [int(.7*len(df)), int(.85*len(df))])\n",
        "        self.data = np.array(data[split])\n",
        "        self.eval_len = eval_len\n",
        "\n",
        "    def __getitem__(self, idx):\n",
        "        idx = np.random.randint(1, len(self.data)-1 - self.eval_len)\n",
        "        prev_nat_demand = np.reshape(self.data[idx-1][0], -1)\n",
        "        curr_feat = np.concatenate((prev_nat_demand, self.data[idx][1:]))\n",
        "        curr_nat_demand = np.reshape(self.data[idx][0], -1)\n",
        "        return curr_feat, curr_nat_demand\n",
        "\n",
        "    def __len__(self):\n",
        "        return len(self.data)"
      ],
      "execution_count": 5,
      "outputs": []
    },
    {
      "cell_type": "code",
      "metadata": {
        "id": "EwVtd5j6awL6"
      },
      "source": [
        "class FC_Net(nn.Module):\n",
        "    def __init__(self):\n",
        "        super(FC_Net, self).__init__()\n",
        "\n",
        "        self.fc1 = nn.Linear(18, 32)\n",
        "        self.fc2 = nn.Linear(32, 32)\n",
        "        self.bn1 = nn.BatchNorm1d(32, affine=True)\n",
        "        self.fc3 = nn.Linear(32, 8)\n",
        "        self.bn2 = nn.BatchNorm1d(8, affine=True)\n",
        "        self.fc4 = nn.Linear(8, 1)\n",
        "        self.relu = nn.ReLU(inplace=True)\n",
        " \n",
        "    def forward(self, x):\n",
        "        x = x.float()\n",
        "\n",
        "        x = self.fc1(x)\n",
        "        x = self.relu(x)\n",
        "\n",
        "        x = self.fc2(x)\n",
        "        x = self.bn1(x)\n",
        "        x = self.relu(x)\n",
        "\n",
        "        x = self.fc3(x)\n",
        "        x = self.bn2(x)\n",
        "        x = self.relu(x)\n",
        "\n",
        "        x = self.fc4(x)\n",
        "        x = self.relu(x)\n",
        "        \n",
        "        return x"
      ],
      "execution_count": 6,
      "outputs": []
    },
    {
      "cell_type": "code",
      "metadata": {
        "colab": {
          "base_uri": "https://localhost:8080/",
          "height": 620
        },
        "id": "wZXCY3g9PoCn",
        "outputId": "8ebd20df-7fdb-4933-fe51-ddcf62d50624"
      },
      "source": [
        "train_set = FC_Net_Dataset(split=0)\n",
        "val_set = FC_Net_Dataset(split=1)\n",
        "\n",
        "np.random.seed(1)\n",
        "fc_net = FC_Net();\n",
        "loss_fn = nn.L1Loss()\n",
        "batch_size, n_epoch, lr = 32, 100, 1e-3\n",
        "train_size, val_size = 365, 365\n",
        "argmin_loss = train(fc_net, train_set, val_set, loss_fn, batch_size, lr, n_epoch, train_size, name='fc_net')"
      ],
      "execution_count": 69,
      "outputs": [
        {
          "output_type": "stream",
          "name": "stdout",
          "text": [
            "[EP \t5] \t\tTrain LOSS: \t1097.7833 \t\tVal LOSS: \t1146.9325\n",
            "[EP \t10] \t\tTrain LOSS: \t937.4443 \t\tVal LOSS: \t983.3958\n",
            "[EP \t15] \t\tTrain LOSS: \t730.4763 \t\tVal LOSS: \t741.2418\n",
            "[EP \t20] \t\tTrain LOSS: \t502.8349 \t\tVal LOSS: \t305.8348\n",
            "[EP \t25] \t\tTrain LOSS: \t315.6251 \t\tVal LOSS: \t459.4124\n",
            "[EP \t30] \t\tTrain LOSS: \t201.0827 \t\tVal LOSS: \t254.3964\n",
            "[EP \t35] \t\tTrain LOSS: \t99.2922 \t\tVal LOSS: \t65.5988\n",
            "[EP \t40] \t\tTrain LOSS: \t60.4734 \t\tVal LOSS: \t53.6715\n",
            "[EP \t45] \t\tTrain LOSS: \t51.7738 \t\tVal LOSS: \t75.1268\n",
            "[EP \t50] \t\tTrain LOSS: \t40.9001 \t\tVal LOSS: \t47.2695\n",
            "[EP \t55] \t\tTrain LOSS: \t38.7503 \t\tVal LOSS: \t48.7353\n",
            "[EP \t60] \t\tTrain LOSS: \t39.7824 \t\tVal LOSS: \t99.8372\n",
            "[EP \t65] \t\tTrain LOSS: \t37.5855 \t\tVal LOSS: \t48.1315\n",
            "[EP \t70] \t\tTrain LOSS: \t36.5630 \t\tVal LOSS: \t38.9705\n",
            "[EP \t75] \t\tTrain LOSS: \t36.6929 \t\tVal LOSS: \t90.9187\n",
            "[EP \t80] \t\tTrain LOSS: \t35.9431 \t\tVal LOSS: \t25.8600\n",
            "[EP \t85] \t\tTrain LOSS: \t36.7502 \t\tVal LOSS: \t64.2404\n",
            "[EP \t90] \t\tTrain LOSS: \t35.5955 \t\tVal LOSS: \t50.9934\n",
            "[EP \t95] \t\tTrain LOSS: \t34.6754 \t\tVal LOSS: \t30.0766\n",
            "[EP \t100] \t\tTrain LOSS: \t35.1514 \t\tVal LOSS: \t48.7203\n"
          ]
        },
        {
          "output_type": "display_data",
          "data": {
            "image/png": "[encoded data removed]",
            "text/plain": [
              "<Figure size 432x288 with 1 Axes>"
            ]
          },
          "metadata": {
            "needs_background": "light"
          }
        }
      ]
    },
    {
      "cell_type": "code",
      "metadata": {
        "id": "smVPMOa-gODS"
      },
      "source": [
        "net = FC_Net()\n",
        "test_set = FC_Net_Dataset(split=2)\n",
        "test_loss = test(net, loss_fn, test_set, batch_size, lr, epoch=argmin_loss, name='fc_net')\n",
        "print(\"Test LOSS: \\t%.4f\" % (test_loss))"
      ],
      "execution_count": null,
      "outputs": []
    },
    {
      "cell_type": "markdown",
      "metadata": {
        "id": "x3YDAynvd0B0"
      },
      "source": [
        "# R_Net"
      ]
    },
    {
      "cell_type": "code",
      "metadata": {
        "id": "jUblweVfd1Z_"
      },
      "source": [
        "class R_Net_Dataset(Dataset):\n",
        "    def __init__(self, split, eval_len=1, window_size=5, csv_dir='dataset/train.csv'):\n",
        "        \"\"\"\n",
        "        Keyword arguments:\n",
        "        split -- an integer either 0, 1, or 2 which indicates train, validation, or test respectively\n",
        "        eval_len -- an integer indicating the number of future timestamp to be predicted\n",
        "        \"\"\"\n",
        "        super(R_Net_Dataset, self).__init__()\n",
        "        df = pd.read_csv(csv_dir)\n",
        "        df['datetime']=pd.to_datetime(df['datetime'])\n",
        "        df['week_day']=df['datetime'].dt.dayofweek\n",
        "        # df['date']=df['datetime'].dt.day\n",
        "        # df['month']=df['datetime'].dt.month\n",
        "        df['hour']=df['datetime'].dt.hour\n",
        "        df = df.drop(columns=\"datetime\")\n",
        "        data = np.split(df, [int(.7*len(df)), int(.85*len(df))])\n",
        "        self.data = np.array(data[split])\n",
        "        self.eval_len = eval_len\n",
        "        self.window_size = window_size\n",
        "\n",
        "    def __getitem__(self, idx):\n",
        "        min_start = self.window_size+1\n",
        "        max_start = len(self.data)-1 - self.eval_len\n",
        "        idx = np.random.randint(min_start, max_start)\n",
        "        prev_nat_demand = np.reshape(self.data[idx-1 - self.window_size: idx-1, 0], (-1,1))\n",
        "        curr_feat = np.concatenate((prev_nat_demand, self.data[idx - self.window_size: idx, 1:]), axis=1)\n",
        "        curr_nat_demand = np.reshape(self.data[idx, 0], -1)\n",
        "        return curr_feat, curr_nat_demand\n",
        "\n",
        "    def __len__(self):\n",
        "        return len(self.data)"
      ],
      "execution_count": 7,
      "outputs": []
    },
    {
      "cell_type": "code",
      "metadata": {
        "id": "SyZiZr_Ska9Q"
      },
      "source": [
        "class R_Net(nn.Module):\n",
        "    def __init__(self, input_size=18, hidden_size=32, dropout=0, num_layers=1, skip=False):\n",
        "        super(R_Net, self).__init__()\n",
        "\n",
        "        self.bn1 = nn.BatchNorm1d(input_size, affine=True)\n",
        "        self.lstm = nn.LSTM(\n",
        "            input_size=input_size,\n",
        "            hidden_size=hidden_size,\n",
        "            num_layers=num_layers,\n",
        "            dropout=dropout,\n",
        "            batch_first=True\n",
        "        )\n",
        "        self.skip = skip\n",
        "        if self.skip:\n",
        "            self.fc1 = nn.Linear(18+hidden_size, 32)\n",
        "        else:\n",
        "            self.fc1 = nn.Linear(hidden_size, 32)\n",
        "        self.fc2 = nn.Linear(32, 32)\n",
        "        self.bn2 = nn.BatchNorm1d(32, affine=True)\n",
        "        self.fc3 = nn.Linear(32, 8)\n",
        "        self.bn3 = nn.BatchNorm1d(8, affine=True)\n",
        "        self.fc4 = nn.Linear(8, 1)\n",
        "        self.relu = nn.ReLU(inplace=True)\n",
        " \n",
        "    def forward(self, x):\n",
        "        lstm_in = self.bn1(x.double().flatten(0, 1)).reshape(x.shape)\n",
        "        lstm_out, _ = self.lstm(lstm_in)\n",
        "\n",
        "        if self.skip:\n",
        "            x = self.fc1(torch.cat([lstm_out[:,-1], x[:,-1]], axis=1))\n",
        "        else:\n",
        "            x = self.fc1(lstm_out[:,-1])\n",
        "        x = self.relu(x)\n",
        "\n",
        "        x = self.fc2(x)\n",
        "        x = self.bn2(x)\n",
        "        x = self.relu(x)\n",
        "\n",
        "        x = self.fc3(x)\n",
        "        x = self.bn3(x)\n",
        "        x = self.relu(x)\n",
        "\n",
        "        x = self.fc4(x)\n",
        "        x = self.relu(x)\n",
        "        \n",
        "        return x"
      ],
      "execution_count": 8,
      "outputs": []
    },
    {
      "cell_type": "code",
      "metadata": {
        "colab": {
          "base_uri": "https://localhost:8080/",
          "height": 620
        },
        "id": "HLWCQtowQqKo",
        "outputId": "61815a03-a59c-4493-d675-49109a4e84e0"
      },
      "source": [
        "train_set = R_Net_Dataset(split=0)\n",
        "val_set = R_Net_Dataset(split=1)\n",
        "\n",
        "random.seed(1)\n",
        "np.random.seed(1)\n",
        "r_net = R_Net();\n",
        "r_net.double()\n",
        "loss_fn = nn.L1Loss()\n",
        "batch_size, n_epoch, lr = 32, 100, 1e-3\n",
        "train_size, val_size = 365, 365\n",
        "argmin_loss = train(r_net, train_set, val_set, loss_fn, batch_size, lr, n_epoch, train_size, name='r_net')"
      ],
      "execution_count": 46,
      "outputs": [
        {
          "output_type": "stream",
          "name": "stdout",
          "text": [
            "[EP \t5] \t\tTrain LOSS: \t1108.0931 \t\tVal LOSS: \t1150.6968\n",
            "[EP \t10] \t\tTrain LOSS: \t943.5576 \t\tVal LOSS: \t1009.5870\n",
            "[EP \t15] \t\tTrain LOSS: \t718.1300 \t\tVal LOSS: \t826.8624\n",
            "[EP \t20] \t\tTrain LOSS: \t442.1466 \t\tVal LOSS: \t557.7677\n",
            "[EP \t25] \t\tTrain LOSS: \t197.0974 \t\tVal LOSS: \t206.7751\n",
            "[EP \t30] \t\tTrain LOSS: \t101.9252 \t\tVal LOSS: \t62.3253\n",
            "[EP \t35] \t\tTrain LOSS: \t79.5117 \t\tVal LOSS: \t57.1372\n",
            "[EP \t40] \t\tTrain LOSS: \t58.2982 \t\tVal LOSS: \t42.8496\n",
            "[EP \t45] \t\tTrain LOSS: \t44.7503 \t\tVal LOSS: \t29.7016\n",
            "[EP \t50] \t\tTrain LOSS: \t39.5148 \t\tVal LOSS: \t46.4212\n",
            "[EP \t55] \t\tTrain LOSS: \t36.9433 \t\tVal LOSS: \t40.2114\n",
            "[EP \t60] \t\tTrain LOSS: \t35.8003 \t\tVal LOSS: \t34.5652\n",
            "[EP \t65] \t\tTrain LOSS: \t34.3522 \t\tVal LOSS: \t31.8870\n",
            "[EP \t70] \t\tTrain LOSS: \t33.1704 \t\tVal LOSS: \t27.7773\n",
            "[EP \t75] \t\tTrain LOSS: \t32.5727 \t\tVal LOSS: \t31.5176\n",
            "[EP \t80] \t\tTrain LOSS: \t31.0442 \t\tVal LOSS: \t29.6040\n",
            "[EP \t85] \t\tTrain LOSS: \t31.3236 \t\tVal LOSS: \t27.4326\n",
            "[EP \t90] \t\tTrain LOSS: \t30.9896 \t\tVal LOSS: \t25.4391\n",
            "[EP \t95] \t\tTrain LOSS: \t29.9238 \t\tVal LOSS: \t30.5972\n",
            "[EP \t100] \t\tTrain LOSS: \t30.1377 \t\tVal LOSS: \t27.8285\n"
          ]
        },
        {
          "output_type": "display_data",
          "data": {
            "image/png": "[encoded data removed]",
            "text/plain": [
              "<Figure size 432x288 with 1 Axes>"
            ]
          },
          "metadata": {
            "needs_background": "light"
          }
        }
      ]
    },
    {
      "cell_type": "code",
      "metadata": {
        "colab": {
          "base_uri": "https://localhost:8080/"
        },
        "id": "5dSsRxBScXtQ",
        "outputId": "b0904b03-e79b-43b2-9ece-3fe86faba48e"
      },
      "source": [
        "r_net = R_Net();\n",
        "r_net.double()\n",
        "test_set = R_Net_Dataset(split=2)\n",
        "test_loss = test(r_net, loss_fn, test_set, batch_size, lr, epoch=argmin_loss, name='r_net')\n",
        "print(\"Test LOSS: \\t%.4f\" % (test_loss))"
      ],
      "execution_count": 47,
      "outputs": [
        {
          "output_type": "stream",
          "name": "stdout",
          "text": [
            "Test LOSS: \t31.4342\n"
          ]
        }
      ]
    },
    {
      "cell_type": "markdown",
      "metadata": {
        "id": "sG1v3YeU2BWb"
      },
      "source": [
        "# R2-Net"
      ]
    },
    {
      "cell_type": "code",
      "metadata": {
        "colab": {
          "base_uri": "https://localhost:8080/",
          "height": 620
        },
        "id": "zjOCmZ9sSfKb",
        "outputId": "e7264a07-97ce-4eaf-fb70-b04f7455079f"
      },
      "source": [
        "train_set = R_Net_Dataset(split=0)\n",
        "val_set = R_Net_Dataset(split=1)\n",
        "\n",
        "random.seed(1)\n",
        "np.random.seed(1)\n",
        "r2_net = R_Net(dropout=0.2, num_layers=2);\n",
        "r2_net.double()\n",
        "loss_fn = nn.L1Loss()\n",
        "batch_size, n_epoch, lr = 32, 100, 1e-3\n",
        "train_size, val_size = 365, 365\n",
        "argmin_loss = train(r2_net, train_set, val_set, loss_fn, batch_size, lr, n_epoch, train_size, name='r2_net')"
      ],
      "execution_count": 48,
      "outputs": [
        {
          "output_type": "stream",
          "name": "stdout",
          "text": [
            "[EP \t5] \t\tTrain LOSS: \t1100.4062 \t\tVal LOSS: \t1138.9765\n",
            "[EP \t10] \t\tTrain LOSS: \t937.8205 \t\tVal LOSS: \t988.3635\n",
            "[EP \t15] \t\tTrain LOSS: \t713.6113 \t\tVal LOSS: \t781.9939\n",
            "[EP \t20] \t\tTrain LOSS: \t444.3975 \t\tVal LOSS: \t548.4485\n",
            "[EP \t25] \t\tTrain LOSS: \t184.9755 \t\tVal LOSS: \t215.9262\n",
            "[EP \t30] \t\tTrain LOSS: \t86.4787 \t\tVal LOSS: \t116.5345\n",
            "[EP \t35] \t\tTrain LOSS: \t64.1021 \t\tVal LOSS: \t71.4140\n",
            "[EP \t40] \t\tTrain LOSS: \t53.6786 \t\tVal LOSS: \t71.2460\n",
            "[EP \t45] \t\tTrain LOSS: \t53.0986 \t\tVal LOSS: \t44.0467\n",
            "[EP \t50] \t\tTrain LOSS: \t49.5278 \t\tVal LOSS: \t67.4587\n",
            "[EP \t55] \t\tTrain LOSS: \t49.5083 \t\tVal LOSS: \t46.3323\n",
            "[EP \t60] \t\tTrain LOSS: \t42.3088 \t\tVal LOSS: \t32.1615\n",
            "[EP \t65] \t\tTrain LOSS: \t40.8104 \t\tVal LOSS: \t40.0495\n",
            "[EP \t70] \t\tTrain LOSS: \t41.5376 \t\tVal LOSS: \t33.3969\n",
            "[EP \t75] \t\tTrain LOSS: \t40.0287 \t\tVal LOSS: \t28.3666\n",
            "[EP \t80] \t\tTrain LOSS: \t36.7263 \t\tVal LOSS: \t31.6204\n",
            "[EP \t85] \t\tTrain LOSS: \t38.3628 \t\tVal LOSS: \t35.4703\n",
            "[EP \t90] \t\tTrain LOSS: \t35.9001 \t\tVal LOSS: \t30.8748\n",
            "[EP \t95] \t\tTrain LOSS: \t35.6355 \t\tVal LOSS: \t25.6496\n",
            "[EP \t100] \t\tTrain LOSS: \t34.7500 \t\tVal LOSS: \t30.9070\n"
          ]
        },
        {
          "output_type": "display_data",
          "data": {
            "image/png": "[encoded data removed]",
            "text/plain": [
              "<Figure size 432x288 with 1 Axes>"
            ]
          },
          "metadata": {
            "needs_background": "light"
          }
        }
      ]
    },
    {
      "cell_type": "code",
      "metadata": {
        "id": "Yb1pdxmYnuWc",
        "colab": {
          "base_uri": "https://localhost:8080/"
        },
        "outputId": "d36737a6-8be8-4f09-d172-c239d5a48073"
      },
      "source": [
        "r2_net = R_Net(dropout=0.2, num_layers=2)\n",
        "r2_net.double()\n",
        "test_set = R_Net_Dataset(split=2)\n",
        "test_loss = test(r2_net, loss_fn, test_set, batch_size, lr, epoch=argmin_loss, name='r2_net')\n",
        "print(\"Test LOSS: \\t%.4f\" % (test_loss))"
      ],
      "execution_count": 50,
      "outputs": [
        {
          "output_type": "stream",
          "name": "stdout",
          "text": [
            "Test LOSS: \t34.6987\n"
          ]
        }
      ]
    },
    {
      "cell_type": "markdown",
      "metadata": {
        "id": "FTV-q6AC2FBE"
      },
      "source": [
        "# RS-Net"
      ]
    },
    {
      "cell_type": "code",
      "metadata": {
        "colab": {
          "base_uri": "https://localhost:8080/",
          "height": 620
        },
        "id": "1FXl6XxcG4xA",
        "outputId": "bb1fea5b-6cba-43cb-d06e-292d2197b47b"
      },
      "source": [
        "train_set = R_Net_Dataset(split=0)\n",
        "val_set = R_Net_Dataset(split=1)\n",
        "\n",
        "random.seed(1)\n",
        "np.random.seed(1)\n",
        "rs_net = R_Net(skip=True)\n",
        "rs_net.double()\n",
        "loss_fn = nn.L1Loss()\n",
        "batch_size, n_epoch, lr = 32, 100, 1e-3\n",
        "train_size, val_size = 365, 365\n",
        "argmin_loss = train(rs_net, train_set, val_set, loss_fn, batch_size, lr, n_epoch, train_size, name='rs_net')"
      ],
      "execution_count": 52,
      "outputs": [
        {
          "output_type": "stream",
          "name": "stdout",
          "text": [
            "[EP \t5] \t\tTrain LOSS: \t1099.5063 \t\tVal LOSS: \t1136.9226\n",
            "[EP \t10] \t\tTrain LOSS: \t938.4376 \t\tVal LOSS: \t969.4300\n",
            "[EP \t15] \t\tTrain LOSS: \t733.5198 \t\tVal LOSS: \t810.6500\n",
            "[EP \t20] \t\tTrain LOSS: \t508.8452 \t\tVal LOSS: \t532.3726\n",
            "[EP \t25] \t\tTrain LOSS: \t287.1769 \t\tVal LOSS: \t335.3711\n",
            "[EP \t30] \t\tTrain LOSS: \t172.8704 \t\tVal LOSS: \t198.4338\n",
            "[EP \t35] \t\tTrain LOSS: \t108.1846 \t\tVal LOSS: \t119.7678\n",
            "[EP \t40] \t\tTrain LOSS: \t84.3945 \t\tVal LOSS: \t231.9498\n",
            "[EP \t45] \t\tTrain LOSS: \t72.6752 \t\tVal LOSS: \t139.0408\n",
            "[EP \t50] \t\tTrain LOSS: \t64.3485 \t\tVal LOSS: \t52.0260\n",
            "[EP \t55] \t\tTrain LOSS: \t55.9286 \t\tVal LOSS: \t71.8962\n",
            "[EP \t60] \t\tTrain LOSS: \t50.7615 \t\tVal LOSS: \t135.4758\n",
            "[EP \t65] \t\tTrain LOSS: \t44.3436 \t\tVal LOSS: \t69.0160\n",
            "[EP \t70] \t\tTrain LOSS: \t44.8859 \t\tVal LOSS: \t43.8206\n",
            "[EP \t75] \t\tTrain LOSS: \t44.1486 \t\tVal LOSS: \t36.2841\n",
            "[EP \t80] \t\tTrain LOSS: \t40.2493 \t\tVal LOSS: \t29.7997\n",
            "[EP \t85] \t\tTrain LOSS: \t41.3395 \t\tVal LOSS: \t112.0350\n",
            "[EP \t90] \t\tTrain LOSS: \t39.8558 \t\tVal LOSS: \t42.2047\n",
            "[EP \t95] \t\tTrain LOSS: \t38.6046 \t\tVal LOSS: \t54.4467\n",
            "[EP \t100] \t\tTrain LOSS: \t36.8030 \t\tVal LOSS: \t27.2966\n"
          ]
        },
        {
          "output_type": "display_data",
          "data": {
            "image/png": "[encoded data removed]",
            "text/plain": [
              "<Figure size 432x288 with 1 Axes>"
            ]
          },
          "metadata": {
            "needs_background": "light"
          }
        }
      ]
    },
    {
      "cell_type": "code",
      "metadata": {
        "id": "IcvpQSPyG4xB",
        "colab": {
          "base_uri": "https://localhost:8080/"
        },
        "outputId": "6ed6550d-0399-4e95-b60c-ad3c7afa68a9"
      },
      "source": [
        "rs_net = R_Net(skip=True)\n",
        "rs_net.double()\n",
        "test_set = R_Net_Dataset(split=2)\n",
        "test_loss = test(rs_net, loss_fn, test_set, batch_size, lr, epoch=argmin_loss, name='rs_net')\n",
        "print(\"Test LOSS: \\t%.4f\" % (test_loss))"
      ],
      "execution_count": 54,
      "outputs": [
        {
          "output_type": "stream",
          "name": "stdout",
          "text": [
            "Test LOSS: \t31.6077\n"
          ]
        }
      ]
    },
    {
      "cell_type": "markdown",
      "metadata": {
        "id": "dm4SxzSD2IlO"
      },
      "source": [
        "# RS2-Net"
      ]
    },
    {
      "cell_type": "code",
      "metadata": {
        "colab": {
          "base_uri": "https://localhost:8080/",
          "height": 620
        },
        "id": "2Jwe7C5lm0mk",
        "outputId": "00ce2b8d-bf07-43d4-a86b-9f25f8c22c0d"
      },
      "source": [
        "train_set = R_Net_Dataset(split=0)\n",
        "val_set = R_Net_Dataset(split=1)\n",
        "\n",
        "random.seed(1)\n",
        "np.random.seed(1)\n",
        "rs2_net = R_Net(dropout=0.2, num_layers=2, skip=True)\n",
        "rs2_net.double()\n",
        "loss_fn = nn.L1Loss()\n",
        "batch_size, n_epoch, lr = 32, 100, 1e-3\n",
        "train_size, val_size = 365, 365\n",
        "argmin_loss = train(rs2_net, train_set, val_set, loss_fn, batch_size, lr, n_epoch, train_size, name='rs2_net')"
      ],
      "execution_count": 56,
      "outputs": [
        {
          "output_type": "stream",
          "name": "stdout",
          "text": [
            "[EP \t5] \t\tTrain LOSS: \t1100.3609 \t\tVal LOSS: \t1130.9301\n",
            "[EP \t10] \t\tTrain LOSS: \t931.6741 \t\tVal LOSS: \t952.9714\n",
            "[EP \t15] \t\tTrain LOSS: \t709.8076 \t\tVal LOSS: \t725.1907\n",
            "[EP \t20] \t\tTrain LOSS: \t452.8340 \t\tVal LOSS: \t441.4069\n",
            "[EP \t25] \t\tTrain LOSS: \t261.6612 \t\tVal LOSS: \t265.8950\n",
            "[EP \t30] \t\tTrain LOSS: \t108.8949 \t\tVal LOSS: \t117.8681\n",
            "[EP \t35] \t\tTrain LOSS: \t76.0873 \t\tVal LOSS: \t66.1457\n",
            "[EP \t40] \t\tTrain LOSS: \t52.8254 \t\tVal LOSS: \t53.7978\n",
            "[EP \t45] \t\tTrain LOSS: \t46.5708 \t\tVal LOSS: \t111.4326\n",
            "[EP \t50] \t\tTrain LOSS: \t42.5364 \t\tVal LOSS: \t89.9864\n",
            "[EP \t55] \t\tTrain LOSS: \t39.5245 \t\tVal LOSS: \t32.8019\n",
            "[EP \t60] \t\tTrain LOSS: \t37.9169 \t\tVal LOSS: \t85.9435\n",
            "[EP \t65] \t\tTrain LOSS: \t36.1555 \t\tVal LOSS: \t28.4875\n",
            "[EP \t70] \t\tTrain LOSS: \t35.5334 \t\tVal LOSS: \t48.9274\n",
            "[EP \t75] \t\tTrain LOSS: \t35.1671 \t\tVal LOSS: \t51.6546\n",
            "[EP \t80] \t\tTrain LOSS: \t34.3743 \t\tVal LOSS: \t27.5913\n",
            "[EP \t85] \t\tTrain LOSS: \t34.1235 \t\tVal LOSS: \t35.8229\n",
            "[EP \t90] \t\tTrain LOSS: \t34.0043 \t\tVal LOSS: \t38.8693\n",
            "[EP \t95] \t\tTrain LOSS: \t33.0606 \t\tVal LOSS: \t50.9864\n",
            "[EP \t100] \t\tTrain LOSS: \t32.7051 \t\tVal LOSS: \t29.7972\n"
          ]
        },
        {
          "output_type": "display_data",
          "data": {
            "image/png": "[encoded data removed]",
            "text/plain": [
              "<Figure size 432x288 with 1 Axes>"
            ]
          },
          "metadata": {
            "needs_background": "light"
          }
        }
      ]
    },
    {
      "cell_type": "code",
      "metadata": {
        "colab": {
          "base_uri": "https://localhost:8080/"
        },
        "id": "U2X9NGcCwrGy",
        "outputId": "bdfc9776-2ee1-4ed3-fa35-0f02f2a79825"
      },
      "source": [
        "rs2_net = R_Net(dropout=0.2, num_layers=2, skip=True)\n",
        "rs2_net.double()\n",
        "test_set = R_Net_Dataset(split=2)\n",
        "test_loss = test(rs2_net, loss_fn, test_set, batch_size, lr, epoch=argmin_loss, name='rs2_net')\n",
        "print(\"Test LOSS: \\t%.4f\" % (test_loss))"
      ],
      "execution_count": 57,
      "outputs": [
        {
          "output_type": "stream",
          "name": "stdout",
          "text": [
            "Test LOSS: \t30.8992\n"
          ]
        }
      ]
    },
    {
      "cell_type": "markdown",
      "metadata": {
        "id": "T4XS0au9zbCO"
      },
      "source": [
        "# Test Plot"
      ]
    },
    {
      "cell_type": "code",
      "metadata": {
        "id": "ZqMuQCR5z04M"
      },
      "source": [
        "class Test_Dataset(Dataset):\n",
        "    def __init__(self, eval_len=10, window_size=5, csv_dir='dataset/train.csv'):\n",
        "        \"\"\"\n",
        "        Keyword arguments:\n",
        "        split -- an integer either 0, 1, or 2 which indicates train, validation, or test respectively\n",
        "        eval_len -- an integer indicating the number of future timestamp to be predicted\n",
        "        \"\"\"\n",
        "        super(Test_Dataset, self).__init__()\n",
        "        df = pd.read_csv(csv_dir)\n",
        "        df['datetime']=pd.to_datetime(df['datetime'])\n",
        "        df['week_day']=df['datetime'].dt.dayofweek\n",
        "        # df['date']=df['datetime'].dt.day\n",
        "        # df['month']=df['datetime'].dt.month\n",
        "        df['hour']=df['datetime'].dt.hour\n",
        "        df = df.drop(columns=\"datetime\")\n",
        "        data = np.split(df, [int(.7*len(df)), int(.85*len(df))])\n",
        "        self.data = np.array(data[2])\n",
        "        self.eval_len = eval_len\n",
        "        self.window_size = window_size\n",
        "        min_start = self.window_size+1\n",
        "        max_start = len(self.data)-1 - self.eval_len\n",
        "        self.idx = np.random.randint(min_start, max_start)\n",
        "\n",
        "    def __getitem__(self, idx):\n",
        "        idx = self.idx\n",
        "        self.idx += 1\n",
        "        prev_nat_demand = np.reshape(self.data[idx-1][0], -1)\n",
        "        curr_feat = np.concatenate((prev_nat_demand, self.data[idx][1:]))\n",
        "        curr_nat_demand = np.reshape(self.data[idx][0], -1)\n",
        "        return curr_feat, curr_nat_demand, idx\n",
        "\n",
        "    def __len__(self):\n",
        "        return len(self.data)"
      ],
      "execution_count": 56,
      "outputs": []
    },
    {
      "cell_type": "code",
      "metadata": {
        "id": "-_rDVtrO6wh3"
      },
      "source": [
        "@torch.no_grad()\n",
        "def load_model(net, batch_size, lr, epoch=100, name='net'):\n",
        "    net.eval()\n",
        "    save_dir = f'drive/MyDrive/COMP4211/project/logs/{name}_{batch_size}_{lr}'\n",
        "    net.load_state_dict(torch.load(osp.join(save_dir, 'weights/ep%d.pth' % epoch)))\n",
        "    return net"
      ],
      "execution_count": 9,
      "outputs": []
    },
    {
      "cell_type": "code",
      "metadata": {
        "id": "H8cFUA37zE_2",
        "colab": {
          "base_uri": "https://localhost:8080/",
          "height": 265
        },
        "outputId": "003bf026-50d5-4aa9-8201-7cb46cddfa42"
      },
      "source": [
        "eval_len = 24\n",
        "window_size = 5\n",
        "dataset = Test_Dataset(eval_len=eval_len, window_size=window_size)\n",
        "batch_size, n_epoch, lr = 32, 100, 1e-3\n",
        "loss_fn = nn.L1Loss()\n",
        "\n",
        "fc_net = FC_Net()\n",
        "fc_net.float()\n",
        "fc_net = load_model(fc_net, batch_size, lr, epoch=80, name='fc_net')\n",
        "\n",
        "rs2_net = R_Net(dropout=0.2, num_layers=2, skip=True)\n",
        "rs2_net.double()\n",
        "rs2_net = load_model(rs2_net, batch_size, lr, epoch=80, name='rs2_net')\n",
        "\n",
        "fc_feat = None\n",
        "rs2_feat = []\n",
        "gt = []\n",
        "fc_pred = []\n",
        "rs2_pred = []\n",
        "time = []\n",
        "\n",
        "for i in range(window_size):\n",
        "    curr_feat, curr_nat_demand, idx = dataset[i]\n",
        "    fc_feat = curr_feat\n",
        "    rs2_feat.append(curr_feat)\n",
        "    gt.append(curr_nat_demand)\n",
        "    fc_pred.append(curr_nat_demand)\n",
        "    rs2_pred.append(curr_nat_demand)\n",
        "    time.append(i+1 - window_size)\n",
        "\n",
        "for i in range(eval_len):\n",
        "    curr_feat, curr_nat_demand, idx = dataset[i]\n",
        "    fc_feat = curr_feat\n",
        "    rs2_feat.append(curr_feat)\n",
        "    gt.append(curr_nat_demand)\n",
        "    fc_pred.append(curr_nat_demand)\n",
        "    rs2_pred.append(curr_nat_demand)\n",
        "    time.append(i)\n",
        "\n",
        "    fc_feat[0] = fc_pred[-2]\n",
        "    fc_pred[-1] = fc_net(torch.Tensor([fc_feat])).detach().numpy()[0]\n",
        "\n",
        "    rs2_feat = rs2_feat[1:]\n",
        "    rs2_feat[-1][0] = rs2_pred[-2]\n",
        "    rs2_pred[-1] = rs2_net(torch.Tensor([rs2_feat])).detach().numpy()[0]\n",
        "\n",
        "plt.plot(time, gt, label = \"Tround Truth\", linestyle=\"-\")\n",
        "plt.plot(time, fc_pred, label = \"FC-Net\", linestyle=\"--\")\n",
        "plt.plot(time, rs2_pred, label = \"RS2-Net\", linestyle=\":\")\n",
        "plt.legend()\n",
        "plt.show()"
      ],
      "execution_count": 59,
      "outputs": [
        {
          "output_type": "display_data",
          "data": {
            "image/png": "[encoded data removed]",
            "text/plain": [
              "<Figure size 432x288 with 1 Axes>"
            ]
          },
          "metadata": {
            "needs_background": "light"
          }
        }
      ]
    },
    {
      "cell_type": "markdown",
      "metadata": {
        "id": "AprDSL4TlZJa"
      },
      "source": [
        "# MB_Net"
      ]
    },
    {
      "cell_type": "code",
      "metadata": {
        "colab": {
          "base_uri": "https://localhost:8080/"
        },
        "id": "cnOarW-lm0C4",
        "outputId": "582e92e8-fe73-47b9-c141-aec2390839cd"
      },
      "source": [
        "class MB_Net_Dataset(Dataset):\n",
        "    def __init__(self, split, eval_len=1, mb_len=5, window_size=5, csv_dir='dataset/train.csv'):\n",
        "        \"\"\"\n",
        "        Keyword arguments:\n",
        "        split -- an integer either 0, 1, or 2 which indicates train, validation, or test respectively\n",
        "        eval_len -- an integer indicating the number of future timestamp to be predicted\n",
        "        \"\"\"\n",
        "        super(MB_Net_Dataset, self).__init__()\n",
        "        df = pd.read_csv(csv_dir)\n",
        "        df['datetime']=pd.to_datetime(df['datetime'])\n",
        "        df['week_day']=df['datetime'].dt.dayofweek\n",
        "        # df['date']=df['datetime'].dt.day\n",
        "        # df['month']=df['datetime'].dt.month\n",
        "        df['hour']=df['datetime'].dt.hour\n",
        "        df = df.drop(columns=\"datetime\")\n",
        "        data = np.split(df, [int(.7*len(df)), int(.85*len(df))])\n",
        "        self.data = np.array(data[split])\n",
        "        self.eval_len = eval_len\n",
        "        self.window_size = window_size\n",
        "        self.mb_len = mb_len\n",
        "\n",
        "    def __getitem__(self, idx):\n",
        "        min_start = 1 + self.window_size + self.mb_len\n",
        "        max_start = len(self.data)-1 - self.eval_len\n",
        "        idx = np.random.randint(min_start, max_start)\n",
        "        prev_nat_demand = np.reshape(self.data[idx-1 - self.window_size - self.mb_len: idx-1, 0], (-1,1))\n",
        "        curr_feat = np.concatenate((prev_nat_demand, self.data[idx - self.window_size - self.mb_len: idx, 1:]), axis=1)\n",
        "        curr_nat_demand = np.reshape(self.data[idx, 0], -1)\n",
        "        return torch.tensor(curr_feat, dtype=torch.float64), torch.tensor(curr_nat_demand, dtype=torch.float64)\n",
        "\n",
        "    def __len__(self):\n",
        "        return len(self.data)\n",
        "\n",
        "a = MB_Net_Dataset(split=0)\n",
        "for i, (x,y) in enumerate(DataLoader(a, batch_size=1)):\n",
        "    print(x.shape)\n",
        "    print(y.shape)\n",
        "    break"
      ],
      "execution_count": null,
      "outputs": [
        {
          "output_type": "stream",
          "name": "stdout",
          "text": [
            "torch.Size([1, 25, 18])\n",
            "torch.Size([1, 1])\n"
          ]
        }
      ]
    },
    {
      "cell_type": "code",
      "metadata": {
        "id": "k1Nb6mEcnL4j"
      },
      "source": [
        "class MB_Net(nn.Module):\n",
        "    def __init__(self, input_size=18, hidden_size=32, dropout=0, num_layers=1):\n",
        "        super(R_Net, self).__init__()\n",
        "\n",
        "        self.lstm = nn.LSTM(\n",
        "            input_size=input_size,\n",
        "            hidden_size=hidden_size,\n",
        "            num_layers=num_layers,\n",
        "            dropout=dropout,\n",
        "            batch_first=True\n",
        "        )\n",
        "        self.fc1 = nn.Linear(hidden_size, 1)\n",
        "        self.relu = nn.ReLU(inplace=True)\n",
        " \n",
        "    def forward(self, x):\n",
        "        x, _ = self.lstm(x.double())\n",
        "        x = self.fc1(x[:,-1])\n",
        "        x = self.relu(x)\n",
        "        \n",
        "        return x"
      ],
      "execution_count": null,
      "outputs": []
    }
  ]
}