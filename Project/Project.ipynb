{
  "nbformat": 4,
  "nbformat_minor": 0,
  "metadata": {
    "colab": {
      "name": "Project.ipynb",
      "provenance": [],
      "collapsed_sections": [
        "V6rOAV9rPz1k"
      ],
      "mount_file_id": "1bL2aFZE7ZKbyPRt3GUx35bz5_YK0OcXh",
      "authorship_tag": "ABX9TyPQehHiUP7Ln6ayhdX/yGqF",
      "include_colab_link": true
    },
    "kernelspec": {
      "name": "python3",
      "display_name": "Python 3"
    },
    "language_info": {
      "name": "python"
    }
  },
  "cells": [
    {
      "cell_type": "markdown",
      "metadata": {
        "id": "view-in-github",
        "colab_type": "text"
      },
      "source": [
        "<a href=\"https://colab.research.google.com/github/wilbertcaine/COMP4211/blob/main/Project/Project.ipynb\" target=\"_parent\"><img src=\"https://colab.research.google.com/assets/colab-badge.svg\" alt=\"Open In Colab\"/></a>"
      ]
    },
    {
      "cell_type": "code",
      "metadata": {
        "colab": {
          "base_uri": "https://localhost:8080/"
        },
        "id": "zj4luAPGr0c0",
        "outputId": "145d74d1-217a-46e9-de3f-4ad046bccac1"
      },
      "source": [
        "# https://drive.google.com/file/d/199mVXHt5cxT68gBXCcucMjtJzCwvc8ud/view?usp=sharing\n",
        "# https://drive.google.com/file/d/1d2hJyvo2Go4FxK7br0exFQFdZ1eCexIA/view?usp=sharing\n",
        "# https://drive.google.com/file/d/1yjsMICWqHdEUhF758ndq0hLO96FrYWkR/view?usp=sharing\n",
        "%cd /content\n",
        "!mkdir -p dataset\n",
        "%cd /content/dataset\n",
        "!gdown --id 199mVXHt5cxT68gBXCcucMjtJzCwvc8ud\n",
        "!gdown --id 1d2hJyvo2Go4FxK7br0exFQFdZ1eCexIA\n",
        "!gdown --id 1yjsMICWqHdEUhF758ndq0hLO96FrYWkR\n",
        "%cd ../"
      ],
      "execution_count": 1,
      "outputs": [
        {
          "output_type": "stream",
          "name": "stdout",
          "text": [
            "/content\n",
            "/content/dataset\n",
            "Downloading...\n",
            "From: https://drive.google.com/uc?id=199mVXHt5cxT68gBXCcucMjtJzCwvc8ud\n",
            "To: /content/dataset/train.csv\n",
            "100% 7.62M/7.62M [00:00<00:00, 24.2MB/s]\n",
            "Downloading...\n",
            "From: https://drive.google.com/uc?id=1d2hJyvo2Go4FxK7br0exFQFdZ1eCexIA\n",
            "To: /content/dataset/Test_Jan.csv\n",
            "100% 124k/124k [00:00<00:00, 58.6MB/s]\n",
            "Downloading...\n",
            "From: https://drive.google.com/uc?id=1yjsMICWqHdEUhF758ndq0hLO96FrYWkR\n",
            "To: /content/dataset/Predict_Jan.csv\n",
            "100% 20.7k/20.7k [00:00<00:00, 29.8MB/s]\n",
            "/content\n"
          ]
        }
      ]
    },
    {
      "cell_type": "code",
      "metadata": {
        "id": "3WdaeGZWPlaF",
        "colab": {
          "base_uri": "https://localhost:8080/"
        },
        "outputId": "764133ab-b50b-412f-ce90-0f7886e39376"
      },
      "source": [
        "import os\n",
        "import pandas as pd\n",
        "import numpy as np\n",
        "from torch.utils.data import Dataset\n",
        "from torch.utils.data import DataLoader\n",
        "import torch\n",
        "import torch.nn as nn\n",
        "import torch.nn.functional as F\n",
        "import torch.optim as optim\n",
        "from torch.utils.data import Dataset\n",
        "\n",
        "!pip install torchsummaryX\n",
        "\n",
        "import matplotlib.pyplot as plt\n",
        "import os.path as osp\n",
        "from torchsummaryX import summary\n",
        "from torch.utils.tensorboard import SummaryWriter\n",
        "from tqdm import tqdm"
      ],
      "execution_count": 18,
      "outputs": [
        {
          "output_type": "stream",
          "name": "stdout",
          "text": [
            "Requirement already satisfied: torchsummaryX in /usr/local/lib/python3.7/dist-packages (1.3.0)\n",
            "Requirement already satisfied: torch in /usr/local/lib/python3.7/dist-packages (from torchsummaryX) (1.10.0+cu111)\n",
            "Requirement already satisfied: numpy in /usr/local/lib/python3.7/dist-packages (from torchsummaryX) (1.19.5)\n",
            "Requirement already satisfied: pandas in /usr/local/lib/python3.7/dist-packages (from torchsummaryX) (1.1.5)\n",
            "Requirement already satisfied: pytz>=2017.2 in /usr/local/lib/python3.7/dist-packages (from pandas->torchsummaryX) (2018.9)\n",
            "Requirement already satisfied: python-dateutil>=2.7.3 in /usr/local/lib/python3.7/dist-packages (from pandas->torchsummaryX) (2.8.2)\n",
            "Requirement already satisfied: six>=1.5 in /usr/local/lib/python3.7/dist-packages (from python-dateutil>=2.7.3->pandas->torchsummaryX) (1.15.0)\n",
            "Requirement already satisfied: typing-extensions in /usr/local/lib/python3.7/dist-packages (from torch->torchsummaryX) (3.10.0.2)\n"
          ]
        }
      ]
    },
    {
      "cell_type": "markdown",
      "metadata": {
        "id": "qacsycRNbddB"
      },
      "source": [
        "# FC_Net"
      ]
    },
    {
      "cell_type": "code",
      "metadata": {
        "id": "L1yJgcOiuASt"
      },
      "source": [
        "class FC_Net_Dataset(Dataset):\n",
        "    def __init__(self, split, eval_len=1, csv_dir='dataset/train.csv'):\n",
        "        \"\"\"\n",
        "        Keyword arguments:\n",
        "        split -- an integer either 0, 1, or 2 which indicates train, validation, or test\n",
        "        \"\"\"\n",
        "        super(FC_Net_Dataset, self).__init__()\n",
        "        df = pd.read_csv(csv_dir)\n",
        "        df = df.drop(columns=\"datetime\")\n",
        "        data = np.split(df, [int(.7*len(df)), int(.85*len(df))])\n",
        "        self.data = np.array(data[split])\n",
        "        self.eval_len = eval_len\n",
        "\n",
        "    def __getitem__(self, idx):\n",
        "        idx = np.random.randint(0, len(self.data) - self.eval_len)\n",
        "        return self.data[idx][1:], np.reshape(self.data[idx][0], -1)\n",
        "\n",
        "    def __len__(self):\n",
        "        return len(self.data)"
      ],
      "execution_count": 16,
      "outputs": []
    },
    {
      "cell_type": "code",
      "metadata": {
        "id": "EwVtd5j6awL6"
      },
      "source": [
        "class FC_Net(nn.Module):\n",
        "    def __init__(self):\n",
        "        super(FC_Net, self).__init__()\n",
        "\n",
        "        self.fc1 = nn.Linear(15, 64)\n",
        "        self.fc2 = nn.Linear(64, 64)\n",
        "        self.bn1 = nn.BatchNorm1d(64, affine=True)\n",
        "        self.fc3 = nn.Linear(64, 8)\n",
        "        self.bn2 = nn.BatchNorm1d(8, affine=True)\n",
        "        self.fc4 = nn.Linear(8, 1)\n",
        "        self.relu = nn.ReLU(inplace=True)\n",
        " \n",
        "    def forward(self, x):\n",
        "        x = x.float()\n",
        "\n",
        "        x = self.fc1(x)\n",
        "        x = self.relu(x)\n",
        "\n",
        "        x = self.fc2(x)\n",
        "        x = self.bn1(x)\n",
        "        x = self.relu(x)\n",
        "\n",
        "        x = self.fc3(x)\n",
        "        x = self.bn2(x)\n",
        "        x = self.relu(x)\n",
        "\n",
        "        x = self.fc4(x)\n",
        "        x = self.relu(x)\n",
        "        \n",
        "        return x"
      ],
      "execution_count": 5,
      "outputs": []
    },
    {
      "cell_type": "code",
      "metadata": {
        "id": "Erhn50AnU9z3"
      },
      "source": [
        "def train_epoch(net, optimizer, loss_fn, dataloader, epoch, train_size, writer=None, device='cpu'):\n",
        "    ep_loss = 0.0\n",
        "    num_iter = len(dataloader)\n",
        "    net.train()\n",
        "    grad_max = 100.\n",
        "    for n_iter, (xs, y) in enumerate(dataloader):\n",
        "        curr_iter = epoch * num_iter + n_iter\n",
        "        xs, y = xs.to(device), y.to(device)\n",
        "        pred = net(xs) ## step 1. get output\n",
        "        loss = loss_fn(pred, y) ## step 2. compute loss\n",
        "        optimizer.zero_grad()\n",
        "        loss.backward() ## step 3. backpropagation\n",
        "        nn.utils.clip_grad_norm_(net.parameters(), grad_max) ## L2-norm gradient clipping\n",
        "        optimizer.step() ## step 4. update model weigth\n",
        "        if writer is not None:\n",
        "            writer.add_scalar('Loss/train', loss.data, curr_iter)\n",
        "        # print(\"\\n[ITER %d] LOSS: %.4f\" % (curr_iter, loss.data))\n",
        "        ep_loss += loss.data\n",
        "        if n_iter + 1 == train_size:\n",
        "            break\n",
        "    ep_loss /= train_size\n",
        "    if writer is not None:\n",
        "        writer.add_scalar('EpLoss/train', ep_loss, epoch)\n",
        "    return ep_loss\n",
        "\n",
        "@torch.no_grad()\n",
        "def val_epoch(net, loss_fn, dataloader, epoch, val_set, val_size, writer=None, device='cpu'):\n",
        "    ep_loss = 0.0\n",
        "    net.eval()\n",
        "    preds, ys = [], []\n",
        "    for n_iter, (xs, y) in enumerate(dataloader):\n",
        "        xs, y = xs.to(device), y.to(device)\n",
        "        pred = net(xs)\n",
        "        loss = loss_fn(pred, y)\n",
        "        ep_loss += loss.data\n",
        "        if n_iter + 1 == val_size:\n",
        "            break\n",
        "    ep_loss /= val_size\n",
        "\n",
        "    if writer is not None:\n",
        "        writer.add_scalar('EpLoss/val', ep_loss, epoch)\n",
        "    return ep_loss\n",
        "\n",
        "def train(net, train_set, val_set, test_set, loss_fn, batch_size, lr, n_epoch, train_size, val_size, name='net'):\n",
        "    train_loader = DataLoader(train_set, batch_size=batch_size, shuffle=True)\n",
        "    val_loader = DataLoader(val_set, batch_size=1)\n",
        "\n",
        "    save_dir = f'drive/MyDrive/COMP4211/project/logs/{name}_{batch_size}_{lr}'\n",
        "    writer = SummaryWriter(log_dir=osp.join(save_dir, 'log'))\n",
        "    device = 'cpu' if not torch.cuda.is_available() else 'cuda'\n",
        "    net = net.to(device)\n",
        "    optimizer = torch.optim.AdamW(net.parameters(), lr=lr)\n",
        "\n",
        "    train_ep_losses, val_ep_losses = [], []\n",
        "    for epoch in range(n_epoch):\n",
        "        train_loss = train_epoch(net, optimizer, loss_fn, train_loader, epoch, train_size, writer, device)\n",
        "        val_loss = val_epoch(net, loss_fn, val_loader, epoch, val_set, val_size, writer, device)\n",
        "        train_ep_losses.append(train_loss)\n",
        "        val_ep_losses.append(val_loss)\n",
        "        if (epoch + 1) % 5 == 0:\n",
        "            print(\"[EP \\t%d] \\t\\tTrain LOSS: \\t%.4f \\t\\tVal LOSS: \\t%.4f\" % (epoch + 1, train_loss, val_loss))\n",
        "            os.makedirs(osp.join(save_dir, 'weights'), exist_ok=True)\n",
        "            torch.save(net.state_dict(), osp.join(save_dir, 'weights/ep%d.pth' % (epoch + 1)))\n",
        "    \n",
        "    plt.plot(torch.tensor(train_ep_losses).cpu().numpy(), label='train')\n",
        "    plt.plot(torch.tensor(val_ep_losses).cpu().numpy(), label='val')\n",
        "    plt.xlabel('n_epoch')\n",
        "    plt.legend()\n",
        "    plt.show()\n",
        "\n",
        "@torch.no_grad()\n",
        "def test(net, loss_fn, test_data, batch_size, lr, epoch=90, name='net'):\n",
        "    net.eval()\n",
        "    device = 'cpu' if not torch.cuda.is_available() else 'cuda'\n",
        "    net = net.to(device)\n",
        "    save_dir = f'drive/MyDrive/COMP4211/project/logs/{name}_{batch_size}_{lr}'\n",
        "    net.load_state_dict(torch.load(osp.join(save_dir, 'weights/ep%d.pth' % epoch)))\n",
        "    test_loader = DataLoader(test_set, batch_size=1)\n",
        "    ep_loss = 0.0\n",
        "    preds, ys = [], []\n",
        "    for n_iter, (xs, y) in enumerate(test_loader):\n",
        "        xs, y = xs.to(device), y.to(device)\n",
        "        pred = net(xs)\n",
        "        loss = loss_fn(pred, y)\n",
        "        ep_loss += loss.data\n",
        "    ep_loss /= len(test_loader)\n",
        "    return ep_loss"
      ],
      "execution_count": 63,
      "outputs": []
    },
    {
      "cell_type": "code",
      "metadata": {
        "colab": {
          "base_uri": "https://localhost:8080/",
          "height": 790
        },
        "id": "wZXCY3g9PoCn",
        "outputId": "6b8e1588-b90c-4c3c-cef5-711874538cfa"
      },
      "source": [
        "train_set = FC_Net_Dataset(split=0)\n",
        "val_set = FC_Net_Dataset(split=1)\n",
        "\n",
        "np.random.seed(1)\n",
        "fc_net = FC_Net();\n",
        "loss_fn = nn.L1Loss()\n",
        "batch_size, n_epoch, lr = 32, 150, 1e-3\n",
        "train_size, val_size = 365, 365\n",
        "train(fc_net, train_set, val_set, test_set, loss_fn, batch_size, lr, n_epoch, train_size, val_size, name='fc_net')"
      ],
      "execution_count": 42,
      "outputs": [
        {
          "output_type": "stream",
          "name": "stdout",
          "text": [
            "[EP \t5] \t\tTrain LOSS: \t1101.3987 \t\tVal LOSS: \t1128.9337\n",
            "[EP \t10] \t\tTrain LOSS: \t935.8990 \t\tVal LOSS: \t973.2666\n",
            "[EP \t15] \t\tTrain LOSS: \t733.1577 \t\tVal LOSS: \t793.5956\n",
            "[EP \t20] \t\tTrain LOSS: \t500.5809 \t\tVal LOSS: \t516.5334\n",
            "[EP \t25] \t\tTrain LOSS: \t314.8271 \t\tVal LOSS: \t574.6668\n",
            "[EP \t30] \t\tTrain LOSS: \t188.4583 \t\tVal LOSS: \t287.9149\n",
            "[EP \t35] \t\tTrain LOSS: \t124.2591 \t\tVal LOSS: \t175.3451\n",
            "[EP \t40] \t\tTrain LOSS: \t105.8859 \t\tVal LOSS: \t102.5789\n",
            "[EP \t45] \t\tTrain LOSS: \t102.1877 \t\tVal LOSS: \t144.9618\n",
            "[EP \t50] \t\tTrain LOSS: \t100.7493 \t\tVal LOSS: \t111.8115\n",
            "[EP \t55] \t\tTrain LOSS: \t99.6745 \t\tVal LOSS: \t116.7001\n",
            "[EP \t60] \t\tTrain LOSS: \t99.1711 \t\tVal LOSS: \t117.5502\n",
            "[EP \t65] \t\tTrain LOSS: \t99.1889 \t\tVal LOSS: \t124.2923\n",
            "[EP \t70] \t\tTrain LOSS: \t98.7120 \t\tVal LOSS: \t101.2808\n",
            "[EP \t75] \t\tTrain LOSS: \t98.2721 \t\tVal LOSS: \t135.3840\n",
            "[EP \t80] \t\tTrain LOSS: \t98.2772 \t\tVal LOSS: \t121.8438\n",
            "[EP \t85] \t\tTrain LOSS: \t99.2169 \t\tVal LOSS: \t103.7250\n",
            "[EP \t90] \t\tTrain LOSS: \t98.2156 \t\tVal LOSS: \t94.0673\n",
            "[EP \t95] \t\tTrain LOSS: \t98.1394 \t\tVal LOSS: \t95.4916\n",
            "[EP \t100] \t\tTrain LOSS: \t99.8138 \t\tVal LOSS: \t111.8311\n",
            "[EP \t105] \t\tTrain LOSS: \t98.4616 \t\tVal LOSS: \t99.1788\n",
            "[EP \t110] \t\tTrain LOSS: \t99.0288 \t\tVal LOSS: \t127.1068\n",
            "[EP \t115] \t\tTrain LOSS: \t97.2295 \t\tVal LOSS: \t115.0607\n",
            "[EP \t120] \t\tTrain LOSS: \t97.9573 \t\tVal LOSS: \t103.4141\n",
            "[EP \t125] \t\tTrain LOSS: \t98.3586 \t\tVal LOSS: \t115.5727\n",
            "[EP \t130] \t\tTrain LOSS: \t98.6051 \t\tVal LOSS: \t131.8308\n",
            "[EP \t135] \t\tTrain LOSS: \t98.4756 \t\tVal LOSS: \t110.0427\n",
            "[EP \t140] \t\tTrain LOSS: \t97.7822 \t\tVal LOSS: \t117.4470\n",
            "[EP \t145] \t\tTrain LOSS: \t97.3350 \t\tVal LOSS: \t95.1244\n",
            "[EP \t150] \t\tTrain LOSS: \t96.5393 \t\tVal LOSS: \t100.1843\n"
          ]
        },
        {
          "output_type": "display_data",
          "data": {
            "image/png": "[encoded data removed]",
            "text/plain": [
              "<Figure size 432x288 with 1 Axes>"
            ]
          },
          "metadata": {
            "needs_background": "light"
          }
        }
      ]
    },
    {
      "cell_type": "code",
      "metadata": {
        "colab": {
          "base_uri": "https://localhost:8080/"
        },
        "id": "smVPMOa-gODS",
        "outputId": "d98da0a2-4069-4f27-e33e-e5ff30bb0ec1"
      },
      "source": [
        "net = FC_Net()\n",
        "test_set = FC_Net_Dataset(split=2)\n",
        "test_loss = test(net, loss_fn, test_set, batch_size, lr, epoch=90, name='fc_net')\n",
        "print(\"Test LOSS: \\t%.4f\" % (test_loss))"
      ],
      "execution_count": 64,
      "outputs": [
        {
          "output_type": "stream",
          "name": "stdout",
          "text": [
            "Test LOSS: \t102.2832\n"
          ]
        }
      ]
    },
    {
      "cell_type": "markdown",
      "metadata": {
        "id": "x3YDAynvd0B0"
      },
      "source": [
        "# LSTM"
      ]
    },
    {
      "cell_type": "code",
      "metadata": {
        "id": "jUblweVfd1Z_"
      },
      "source": [
        "class R_Net_Dataset(Dataset):\n",
        "    def __init__(self, split, eval_len=1, csv_dir='dataset/train.csv'):\n",
        "        \"\"\"\n",
        "        Keyword arguments:\n",
        "        split -- an integer either 0, 1, or 2 which indicates train, validation, or test\n",
        "        \"\"\"\n",
        "        super(FC_Net_Dataset, self).__init__()\n",
        "        df = pd.read_csv(csv_dir)\n",
        "        df = df.drop(columns=\"datetime\")\n",
        "        data = np.split(df, [int(.7*len(df)), int(.85*len(df))])\n",
        "        self.data = np.array(data[split])\n",
        "        self.eval_len = eval_len\n",
        "\n",
        "    def __getitem__(self, idx):\n",
        "        idx = np.random.randint(0, len(self.data) - self.eval_len)\n",
        "        return self.data[idx][1:], np.reshape(self.data[idx][0], -1)\n",
        "\n",
        "    def __len__(self):\n",
        "        return len(self.data)"
      ],
      "execution_count": null,
      "outputs": []
    },
    {
      "cell_type": "code",
      "metadata": {
        "id": "SyZiZr_Ska9Q"
      },
      "source": [
        "class FC_Net(nn.Module):\n",
        "    def __init__(self):\n",
        "        super(FC_Net, self).__init__()\n",
        "\n",
        "        self.fc1 = nn.Linear(15, 64)\n",
        "        self.fc2 = nn.Linear(64, 64)\n",
        "        self.bn1 = nn.BatchNorm1d(64, affine=True)\n",
        "        self.fc3 = nn.Linear(64, 8)\n",
        "        self.bn2 = nn.BatchNorm1d(8, affine=True)\n",
        "        self.fc4 = nn.Linear(8, 1)\n",
        "        self.relu = nn.ReLU(inplace=True)\n",
        " \n",
        "    def forward(self, x):\n",
        "        x = x.float()\n",
        "\n",
        "        x = self.fc1(x)\n",
        "        x = self.relu(x)\n",
        "\n",
        "        x = self.fc2(x)\n",
        "        x = self.bn1(x)\n",
        "        x = self.relu(x)\n",
        "\n",
        "        x = self.fc3(x)\n",
        "        x = self.bn2(x)\n",
        "        x = self.relu(x)\n",
        "\n",
        "        x = self.fc4(x)\n",
        "        x = self.relu(x)\n",
        "        \n",
        "        return x"
      ],
      "execution_count": null,
      "outputs": []
    }
  ]
}