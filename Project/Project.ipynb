{
  "nbformat": 4,
  "nbformat_minor": 0,
  "metadata": {
    "colab": {
      "name": "Project.ipynb",
      "provenance": [],
      "collapsed_sections": [
        "qacsycRNbddB"
      ],
      "mount_file_id": "1bL2aFZE7ZKbyPRt3GUx35bz5_YK0OcXh",
      "authorship_tag": "ABX9TyMMXziMx4OTMkt15MJG/rgU",
      "include_colab_link": true
    },
    "kernelspec": {
      "name": "python3",
      "display_name": "Python 3"
    },
    "language_info": {
      "name": "python"
    }
  },
  "cells": [
    {
      "cell_type": "markdown",
      "metadata": {
        "id": "view-in-github",
        "colab_type": "text"
      },
      "source": [
        "<a href=\"https://colab.research.google.com/github/wilbertcaine/COMP4211/blob/main/Project/Project.ipynb\" target=\"_parent\"><img src=\"https://colab.research.google.com/assets/colab-badge.svg\" alt=\"Open In Colab\"/></a>"
      ]
    },
    {
      "cell_type": "markdown",
      "metadata": {
        "id": "BBX0OJYZuYqq"
      },
      "source": [
        "# Setup"
      ]
    },
    {
      "cell_type": "code",
      "metadata": {
        "colab": {
          "base_uri": "https://localhost:8080/"
        },
        "id": "zj4luAPGr0c0",
        "outputId": "7fd70f22-275f-491b-9265-1aaf029c672b"
      },
      "source": [
        "# https://drive.google.com/file/d/199mVXHt5cxT68gBXCcucMjtJzCwvc8ud/view?usp=sharing\n",
        "# https://drive.google.com/file/d/1d2hJyvo2Go4FxK7br0exFQFdZ1eCexIA/view?usp=sharing\n",
        "# https://drive.google.com/file/d/1yjsMICWqHdEUhF758ndq0hLO96FrYWkR/view?usp=sharing\n",
        "%cd /content\n",
        "!mkdir -p dataset\n",
        "%cd /content/dataset\n",
        "!gdown --id 199mVXHt5cxT68gBXCcucMjtJzCwvc8ud\n",
        "!gdown --id 1d2hJyvo2Go4FxK7br0exFQFdZ1eCexIA\n",
        "!gdown --id 1yjsMICWqHdEUhF758ndq0hLO96FrYWkR\n",
        "%cd ../"
      ],
      "execution_count": null,
      "outputs": [
        {
          "output_type": "stream",
          "name": "stdout",
          "text": [
            "/content\n",
            "/content/dataset\n",
            "Downloading...\n",
            "From: https://drive.google.com/uc?id=199mVXHt5cxT68gBXCcucMjtJzCwvc8ud\n",
            "To: /content/dataset/train.csv\n",
            "100% 7.62M/7.62M [00:00<00:00, 119MB/s]\n",
            "Downloading...\n",
            "From: https://drive.google.com/uc?id=1d2hJyvo2Go4FxK7br0exFQFdZ1eCexIA\n",
            "To: /content/dataset/Test_Jan.csv\n",
            "100% 124k/124k [00:00<00:00, 50.6MB/s]\n",
            "Downloading...\n",
            "From: https://drive.google.com/uc?id=1yjsMICWqHdEUhF758ndq0hLO96FrYWkR\n",
            "To: /content/dataset/Predict_Jan.csv\n",
            "100% 20.7k/20.7k [00:00<00:00, 32.3MB/s]\n",
            "/content\n"
          ]
        }
      ]
    },
    {
      "cell_type": "code",
      "metadata": {
        "id": "3WdaeGZWPlaF",
        "colab": {
          "base_uri": "https://localhost:8080/"
        },
        "outputId": "09f8449b-cfa2-4cde-f4c3-7fa15c756429"
      },
      "source": [
        "import os\n",
        "import pandas as pd\n",
        "import numpy as np\n",
        "from torch.utils.data import Dataset\n",
        "from torch.utils.data import DataLoader\n",
        "import torch\n",
        "import torch.nn as nn\n",
        "import torch.nn.functional as F\n",
        "import torch.optim as optim\n",
        "from torch.optim.lr_scheduler import ReduceLROnPlateau\n",
        "from torch.utils.data import Dataset\n",
        "\n",
        "!pip install torchsummaryX\n",
        "\n",
        "import matplotlib.pyplot as plt\n",
        "import os.path as osp\n",
        "from torchsummaryX import summary\n",
        "from torch.utils.tensorboard import SummaryWriter\n",
        "import random"
      ],
      "execution_count": 53,
      "outputs": [
        {
          "output_type": "stream",
          "name": "stdout",
          "text": [
            "Requirement already satisfied: torchsummaryX in /usr/local/lib/python3.7/dist-packages (1.3.0)\n",
            "Requirement already satisfied: torch in /usr/local/lib/python3.7/dist-packages (from torchsummaryX) (1.10.0+cu111)\n",
            "Requirement already satisfied: pandas in /usr/local/lib/python3.7/dist-packages (from torchsummaryX) (1.1.5)\n",
            "Requirement already satisfied: numpy in /usr/local/lib/python3.7/dist-packages (from torchsummaryX) (1.19.5)\n",
            "Requirement already satisfied: python-dateutil>=2.7.3 in /usr/local/lib/python3.7/dist-packages (from pandas->torchsummaryX) (2.8.2)\n",
            "Requirement already satisfied: pytz>=2017.2 in /usr/local/lib/python3.7/dist-packages (from pandas->torchsummaryX) (2018.9)\n",
            "Requirement already satisfied: six>=1.5 in /usr/local/lib/python3.7/dist-packages (from python-dateutil>=2.7.3->pandas->torchsummaryX) (1.15.0)\n",
            "Requirement already satisfied: typing-extensions in /usr/local/lib/python3.7/dist-packages (from torch->torchsummaryX) (3.10.0.2)\n"
          ]
        }
      ]
    },
    {
      "cell_type": "code",
      "metadata": {
        "id": "Erhn50AnU9z3"
      },
      "source": [
        "def train_epoch(net, optimizer, loss_fn, dataloader, epoch, train_size, writer=None, device='cpu'):\n",
        "    ep_loss = 0.0\n",
        "    num_iter = len(dataloader)\n",
        "    net.train()\n",
        "    grad_max = 100.\n",
        "    for n_iter, (xs, y) in enumerate(dataloader):\n",
        "        curr_iter = epoch * num_iter + n_iter\n",
        "        xs, y = xs.to(device), y.to(device)\n",
        "        pred = net(xs) ## step 1. get output\n",
        "        loss = loss_fn(pred, y) ## step 2. compute loss\n",
        "        optimizer.zero_grad()\n",
        "        loss.backward() ## step 3. backpropagation\n",
        "        nn.utils.clip_grad_norm_(net.parameters(), grad_max) ## L2-norm gradient clipping\n",
        "        optimizer.step() ## step 4. update model weigth\n",
        "        if writer is not None:\n",
        "            writer.add_scalar('Loss/train', loss.data, curr_iter)\n",
        "        # print(\"\\n[ITER %d] LOSS: %.4f\" % (curr_iter, loss.data))\n",
        "        ep_loss += loss.data\n",
        "        if n_iter + 1 == train_size:\n",
        "            break\n",
        "    ep_loss /= train_size\n",
        "    if writer is not None:\n",
        "        writer.add_scalar('EpLoss/train', ep_loss, epoch)\n",
        "    return ep_loss\n",
        "\n",
        "@torch.no_grad()\n",
        "def val_epoch(net, loss_fn, dataloader, epoch, val_set, writer=None, device='cpu'):\n",
        "    ep_loss = 0.0\n",
        "    net.eval()\n",
        "    preds, ys = [], []\n",
        "    for n_iter, (xs, y) in enumerate(dataloader):\n",
        "        xs, y = xs.to(device), y.to(device)\n",
        "        pred = net(xs)\n",
        "        loss = loss_fn(pred, y)\n",
        "        ep_loss += loss.data\n",
        "    ep_loss /= len(dataloader)\n",
        "\n",
        "    if writer is not None:\n",
        "        writer.add_scalar('EpLoss/val', ep_loss, epoch)\n",
        "    return ep_loss\n",
        "\n",
        "def train(net, train_set, val_set, loss_fn, batch_size, lr, n_epoch, train_size, name='net'):\n",
        "    train_loader = DataLoader(train_set, batch_size=batch_size, shuffle=True)\n",
        "    val_loader = DataLoader(val_set, batch_size=1)\n",
        "\n",
        "    save_dir = f'drive/MyDrive/COMP4211/project/logs/{name}_{batch_size}_{lr}'\n",
        "    writer = SummaryWriter(log_dir=osp.join(save_dir, 'log'))\n",
        "    device = 'cpu' if not torch.cuda.is_available() else 'cuda'\n",
        "    net = net.to(device)\n",
        "    optimizer = torch.optim.AdamW(net.parameters(), lr=lr)\n",
        "\n",
        "    train_ep_losses, val_ep_losses = [], []\n",
        "    min_loss = 0\n",
        "    argmin_loss = 0\n",
        "    for epoch in range(n_epoch):\n",
        "        train_loss = train_epoch(net, optimizer, loss_fn, train_loader, epoch, train_size, writer, device)\n",
        "        val_loss = val_epoch(net, loss_fn, val_loader, epoch, val_set, writer, device)\n",
        "        train_ep_losses.append(train_loss)\n",
        "        val_ep_losses.append(val_loss)\n",
        "        if (epoch + 1) % 5 == 0:\n",
        "            print(\"[EP \\t%d] \\t\\tTrain LOSS: \\t%.4f \\t\\tVal LOSS: \\t%.4f\" % (epoch + 1, train_loss, val_loss))\n",
        "            os.makedirs(osp.join(save_dir, 'weights'), exist_ok=True)\n",
        "            torch.save(net.state_dict(), osp.join(save_dir, 'weights/ep%d.pth' % (epoch + 1)))\n",
        "            if argmin_loss == 0:\n",
        "                min_loss = val_loss\n",
        "            if min_loss >= val_loss:\n",
        "                min_loss = val_loss\n",
        "                argmin_loss = epoch + 1\n",
        "    \n",
        "    plt.plot(torch.tensor(train_ep_losses).cpu().numpy(), label='train')\n",
        "    plt.plot(torch.tensor(val_ep_losses).cpu().numpy(), label='val')\n",
        "    plt.xlabel('n_epoch')\n",
        "    plt.legend()\n",
        "    plt.show()\n",
        "    return argmin_loss\n",
        "\n",
        "@torch.no_grad()\n",
        "def test(net, loss_fn, test_data, batch_size, lr, epoch=90, name='net'):\n",
        "    net.eval()\n",
        "    device = 'cpu' if not torch.cuda.is_available() else 'cuda'\n",
        "    net = net.to(device)\n",
        "    save_dir = f'drive/MyDrive/COMP4211/project/logs/{name}_{batch_size}_{lr}'\n",
        "    net.load_state_dict(torch.load(osp.join(save_dir, 'weights/ep%d.pth' % epoch)))\n",
        "    test_loader = DataLoader(test_set, batch_size=1)\n",
        "    ep_loss = 0.0\n",
        "    preds, ys = [], []\n",
        "    for n_iter, (xs, y) in enumerate(test_loader):\n",
        "        xs, y = xs.to(device), y.to(device)\n",
        "        pred = net(xs)\n",
        "        loss = loss_fn(pred, y)\n",
        "        ep_loss += loss.data\n",
        "    ep_loss /= len(test_loader)\n",
        "    return ep_loss"
      ],
      "execution_count": 63,
      "outputs": []
    },
    {
      "cell_type": "markdown",
      "metadata": {
        "id": "qacsycRNbddB"
      },
      "source": [
        "# FC_Net"
      ]
    },
    {
      "cell_type": "code",
      "metadata": {
        "id": "L1yJgcOiuASt"
      },
      "source": [
        "class FC_Net_Dataset(Dataset):\n",
        "    def __init__(self, split, eval_len=1, csv_dir='dataset/train.csv'):\n",
        "        \"\"\"\n",
        "        Keyword arguments:\n",
        "        split -- an integer either 0, 1, or 2 which indicates train, validation, or test respectively\n",
        "        eval_len -- an integer indicating the number of future timestamp to be predicted\n",
        "        \"\"\"\n",
        "        super(FC_Net_Dataset, self).__init__()\n",
        "        df = pd.read_csv(csv_dir)\n",
        "        df['datetime']=pd.to_datetime(df['datetime'])\n",
        "        df['week_day']=df['datetime'].dt.dayofweek\n",
        "        # df['date']=df['datetime'].dt.day\n",
        "        # df['month']=df['datetime'].dt.month\n",
        "        df['hour']=df['datetime'].dt.hour\n",
        "        df = df.drop(columns=\"datetime\")\n",
        "        data = np.split(df, [int(.7*len(df)), int(.85*len(df))])\n",
        "        self.data = np.array(data[split])\n",
        "        self.eval_len = eval_len\n",
        "\n",
        "    def __getitem__(self, idx):\n",
        "        idx = np.random.randint(1, len(self.data)-1 - self.eval_len)\n",
        "        prev_nat_demand = np.reshape(self.data[idx-1][0], -1)\n",
        "        curr_feat = np.concatenate((prev_nat_demand, self.data[idx][1:]))\n",
        "        curr_nat_demand = np.reshape(self.data[idx][0], -1)\n",
        "        return curr_feat, curr_nat_demand\n",
        "\n",
        "    def __len__(self):\n",
        "        return len(self.data)"
      ],
      "execution_count": 66,
      "outputs": []
    },
    {
      "cell_type": "code",
      "metadata": {
        "id": "EwVtd5j6awL6"
      },
      "source": [
        "class FC_Net(nn.Module):\n",
        "    def __init__(self):\n",
        "        super(FC_Net, self).__init__()\n",
        "\n",
        "        self.fc1 = nn.Linear(18, 32)\n",
        "        self.fc2 = nn.Linear(32, 32)\n",
        "        self.bn1 = nn.BatchNorm1d(32, affine=True)\n",
        "        self.fc3 = nn.Linear(32, 8)\n",
        "        self.bn2 = nn.BatchNorm1d(8, affine=True)\n",
        "        self.fc4 = nn.Linear(8, 1)\n",
        "        self.relu = nn.ReLU(inplace=True)\n",
        " \n",
        "    def forward(self, x):\n",
        "        x = x.float()\n",
        "\n",
        "        x = self.fc1(x)\n",
        "        x = self.relu(x)\n",
        "\n",
        "        x = self.fc2(x)\n",
        "        x = self.bn1(x)\n",
        "        x = self.relu(x)\n",
        "\n",
        "        x = self.fc3(x)\n",
        "        x = self.bn2(x)\n",
        "        x = self.relu(x)\n",
        "\n",
        "        x = self.fc4(x)\n",
        "        x = self.relu(x)\n",
        "        \n",
        "        return x"
      ],
      "execution_count": 68,
      "outputs": []
    },
    {
      "cell_type": "code",
      "metadata": {
        "colab": {
          "base_uri": "https://localhost:8080/",
          "height": 620
        },
        "id": "wZXCY3g9PoCn",
        "outputId": "c3a01f30-d9fd-439c-8b46-ec223db60050"
      },
      "source": [
        "train_set = FC_Net_Dataset(split=0)\n",
        "val_set = FC_Net_Dataset(split=1)\n",
        "\n",
        "np.random.seed(1)\n",
        "fc_net = FC_Net();\n",
        "loss_fn = nn.L1Loss()\n",
        "batch_size, n_epoch, lr = 32, 100, 1e-3\n",
        "train_size, val_size = 365, 365\n",
        "argmin_loss = train(fc_net, train_set, val_set, loss_fn, batch_size, lr, n_epoch, train_size, name='fc_net')"
      ],
      "execution_count": 69,
      "outputs": [
        {
          "output_type": "stream",
          "name": "stdout",
          "text": [
            "[EP \t5] \t\tTrain LOSS: \t1097.6449 \t\tVal LOSS: \t1148.1635\n",
            "[EP \t10] \t\tTrain LOSS: \t935.3331 \t\tVal LOSS: \t981.3541\n",
            "[EP \t15] \t\tTrain LOSS: \t703.5209 \t\tVal LOSS: \t743.7540\n",
            "[EP \t20] \t\tTrain LOSS: \t474.0166 \t\tVal LOSS: \t636.7478\n",
            "[EP \t25] \t\tTrain LOSS: \t340.1242 \t\tVal LOSS: \t399.3645\n",
            "[EP \t30] \t\tTrain LOSS: \t244.2387 \t\tVal LOSS: \t273.1899\n",
            "[EP \t35] \t\tTrain LOSS: \t188.4012 \t\tVal LOSS: \t281.6482\n",
            "[EP \t40] \t\tTrain LOSS: \t100.7179 \t\tVal LOSS: \t112.0434\n",
            "[EP \t45] \t\tTrain LOSS: \t50.9488 \t\tVal LOSS: \t48.1492\n",
            "[EP \t50] \t\tTrain LOSS: \t41.7500 \t\tVal LOSS: \t63.8305\n",
            "[EP \t55] \t\tTrain LOSS: \t38.6633 \t\tVal LOSS: \t80.0395\n",
            "[EP \t60] \t\tTrain LOSS: \t39.0001 \t\tVal LOSS: \t33.2816\n",
            "[EP \t65] \t\tTrain LOSS: \t36.7154 \t\tVal LOSS: \t74.2676\n",
            "[EP \t70] \t\tTrain LOSS: \t34.6081 \t\tVal LOSS: \t35.3237\n",
            "[EP \t75] \t\tTrain LOSS: \t34.2986 \t\tVal LOSS: \t44.2238\n",
            "[EP \t80] \t\tTrain LOSS: \t33.3486 \t\tVal LOSS: \t31.4914\n",
            "[EP \t85] \t\tTrain LOSS: \t33.9585 \t\tVal LOSS: \t46.6778\n",
            "[EP \t90] \t\tTrain LOSS: \t33.7136 \t\tVal LOSS: \t41.6839\n",
            "[EP \t95] \t\tTrain LOSS: \t32.9887 \t\tVal LOSS: \t34.0522\n",
            "[EP \t100] \t\tTrain LOSS: \t33.7866 \t\tVal LOSS: \t51.2831\n"
          ]
        },
        {
          "output_type": "display_data",
          "data": {
            "image/png": "[encoded data removed]",
            "text/plain": [
              "<Figure size 432x288 with 1 Axes>"
            ]
          },
          "metadata": {
            "needs_background": "light"
          }
        }
      ]
    },
    {
      "cell_type": "code",
      "metadata": {
        "colab": {
          "base_uri": "https://localhost:8080/"
        },
        "id": "smVPMOa-gODS",
        "outputId": "7a5de962-9366-4c9b-8061-e0aee6f4eb13"
      },
      "source": [
        "net = FC_Net()\n",
        "test_set = FC_Net_Dataset(split=2)\n",
        "test_loss = test(net, loss_fn, test_set, batch_size, lr, epoch=argmin_loss, name='fc_net')\n",
        "print(\"Test LOSS: \\t%.4f\" % (test_loss))"
      ],
      "execution_count": null,
      "outputs": [
        {
          "output_type": "stream",
          "name": "stdout",
          "text": [
            "Test LOSS: \t28.3152\n"
          ]
        }
      ]
    },
    {
      "cell_type": "markdown",
      "metadata": {
        "id": "x3YDAynvd0B0"
      },
      "source": [
        "# R_Net"
      ]
    },
    {
      "cell_type": "code",
      "metadata": {
        "id": "jUblweVfd1Z_"
      },
      "source": [
        "class R_Net_Dataset(Dataset):\n",
        "    def __init__(self, split, eval_len=1, window_size=5, csv_dir='dataset/train.csv'):\n",
        "        \"\"\"\n",
        "        Keyword arguments:\n",
        "        split -- an integer either 0, 1, or 2 which indicates train, validation, or test respectively\n",
        "        eval_len -- an integer indicating the number of future timestamp to be predicted\n",
        "        \"\"\"\n",
        "        super(R_Net_Dataset, self).__init__()\n",
        "        df = pd.read_csv(csv_dir)\n",
        "        df['datetime']=pd.to_datetime(df['datetime'])\n",
        "        df['week_day']=df['datetime'].dt.dayofweek\n",
        "        # df['date']=df['datetime'].dt.day\n",
        "        # df['month']=df['datetime'].dt.month\n",
        "        df['hour']=df['datetime'].dt.hour\n",
        "        df = df.drop(columns=\"datetime\")\n",
        "        data = np.split(df, [int(.7*len(df)), int(.85*len(df))])\n",
        "        self.data = np.array(data[split])\n",
        "        self.eval_len = eval_len\n",
        "        self.window_size = window_size\n",
        "\n",
        "    def __getitem__(self, idx):\n",
        "        min_start = self.window_size+1\n",
        "        max_start = len(self.data)-1 - self.eval_len\n",
        "        idx = np.random.randint(min_start, max_start)\n",
        "        prev_nat_demand = np.reshape(self.data[idx-1 - self.window_size: idx-1, 0], (-1,1))\n",
        "        curr_feat = np.concatenate((prev_nat_demand, self.data[idx - self.window_size: idx, 1:]), axis=1)\n",
        "        curr_nat_demand = np.reshape(self.data[idx, 0], -1)\n",
        "        return curr_feat, curr_nat_demand\n",
        "\n",
        "    def __len__(self):\n",
        "        return len(self.data)"
      ],
      "execution_count": null,
      "outputs": []
    },
    {
      "cell_type": "code",
      "metadata": {
        "id": "SyZiZr_Ska9Q"
      },
      "source": [
        "class R_Net(nn.Module):\n",
        "    def __init__(self, input_size=18, hidden_size=64, dropout=0, num_layers=1):\n",
        "        super(R_Net, self).__init__()\n",
        "\n",
        "        self.lstm = nn.LSTM(\n",
        "            input_size=input_size,\n",
        "            hidden_size=hidden_size,\n",
        "            num_layers=num_layers,\n",
        "            dropout=dropout,\n",
        "            batch_first=True\n",
        "        )\n",
        "        self.fc1 = nn.Linear(hidden_size, 8)\n",
        "        self.bn1 = nn.BatchNorm1d(8, affine=True)\n",
        "        self.fc2 = nn.Linear(8, 1)\n",
        "        self.relu = nn.ReLU(inplace=True)\n",
        " \n",
        "    def forward(self, x):\n",
        "        x, _ = self.lstm(x.double())\n",
        "\n",
        "        x = self.fc1(x[:,-1])\n",
        "        x = self.bn1(x)\n",
        "        x = self.relu(x)\n",
        "\n",
        "        x = self.fc2(x)\n",
        "        x = self.relu(x)\n",
        "        \n",
        "        return x"
      ],
      "execution_count": 42,
      "outputs": []
    },
    {
      "cell_type": "code",
      "metadata": {
        "colab": {
          "base_uri": "https://localhost:8080/",
          "height": 960
        },
        "id": "HLWCQtowQqKo",
        "outputId": "1842fed1-1785-40f1-fd94-654563288412"
      },
      "source": [
        "train_set = R_Net_Dataset(split=0)\n",
        "val_set = R_Net_Dataset(split=1)\n",
        "\n",
        "random.seed(1)\n",
        "np.random.seed(1)\n",
        "r_net = R_Net();\n",
        "r_net.double()\n",
        "loss_fn = nn.L1Loss()\n",
        "batch_size, n_epoch, lr = 32, 200, 1e-3\n",
        "train_size, val_size = 365, 365\n",
        "argmin_loss = train(r_net, train_set, val_set, loss_fn, batch_size, lr, n_epoch, train_size, name='r_net')"
      ],
      "execution_count": 62,
      "outputs": [
        {
          "output_type": "stream",
          "name": "stdout",
          "text": [
            "[EP \t5] \t\tTrain LOSS: \t1130.6538 \t\tVal LOSS: \t1166.7608\n",
            "[EP \t10] \t\tTrain LOSS: \t1072.4146 \t\tVal LOSS: \t1116.3244\n",
            "[EP \t15] \t\tTrain LOSS: \t1006.5626 \t\tVal LOSS: \t1036.7736\n",
            "[EP \t20] \t\tTrain LOSS: \t926.1414 \t\tVal LOSS: \t960.7123\n",
            "[EP \t25] \t\tTrain LOSS: \t845.9175 \t\tVal LOSS: \t877.3439\n",
            "[EP \t30] \t\tTrain LOSS: \t739.9623 \t\tVal LOSS: \t767.8788\n",
            "[EP \t35] \t\tTrain LOSS: \t633.3889 \t\tVal LOSS: \t640.8142\n",
            "[EP \t40] \t\tTrain LOSS: \t508.7596 \t\tVal LOSS: \t559.9977\n",
            "[EP \t45] \t\tTrain LOSS: \t407.4512 \t\tVal LOSS: \t413.8399\n",
            "[EP \t50] \t\tTrain LOSS: \t313.7669 \t\tVal LOSS: \t331.2099\n",
            "[EP \t55] \t\tTrain LOSS: \t212.4307 \t\tVal LOSS: \t186.6355\n",
            "[EP \t60] \t\tTrain LOSS: \t165.9947 \t\tVal LOSS: \t147.5012\n",
            "[EP \t65] \t\tTrain LOSS: \t142.3531 \t\tVal LOSS: \t178.4386\n",
            "[EP \t70] \t\tTrain LOSS: \t127.1038 \t\tVal LOSS: \t640.8878\n",
            "[EP \t75] \t\tTrain LOSS: \t122.0779 \t\tVal LOSS: \t341.9996\n",
            "[EP \t80] \t\tTrain LOSS: \t119.3642 \t\tVal LOSS: \t506.5483\n",
            "[EP \t85] \t\tTrain LOSS: \t117.7093 \t\tVal LOSS: \t316.7703\n",
            "[EP \t90] \t\tTrain LOSS: \t117.1139 \t\tVal LOSS: \t135.3264\n",
            "[EP \t95] \t\tTrain LOSS: \t117.1858 \t\tVal LOSS: \t157.4402\n",
            "[EP \t100] \t\tTrain LOSS: \t117.9402 \t\tVal LOSS: \t129.9927\n",
            "[EP \t105] \t\tTrain LOSS: \t115.6574 \t\tVal LOSS: \t144.1442\n",
            "[EP \t110] \t\tTrain LOSS: \t116.8523 \t\tVal LOSS: \t124.4884\n",
            "[EP \t115] \t\tTrain LOSS: \t116.4843 \t\tVal LOSS: \t158.8697\n",
            "[EP \t120] \t\tTrain LOSS: \t117.0504 \t\tVal LOSS: \t147.5521\n",
            "[EP \t125] \t\tTrain LOSS: \t118.1826 \t\tVal LOSS: \t130.3925\n",
            "[EP \t130] \t\tTrain LOSS: \t116.2563 \t\tVal LOSS: \t122.3979\n",
            "[EP \t135] \t\tTrain LOSS: \t118.0430 \t\tVal LOSS: \t161.1934\n",
            "[EP \t140] \t\tTrain LOSS: \t116.9206 \t\tVal LOSS: \t152.1336\n",
            "[EP \t145] \t\tTrain LOSS: \t117.0973 \t\tVal LOSS: \t152.3087\n",
            "[EP \t150] \t\tTrain LOSS: \t118.1019 \t\tVal LOSS: \t142.6640\n",
            "[EP \t155] \t\tTrain LOSS: \t116.8420 \t\tVal LOSS: \t135.6914\n",
            "[EP \t160] \t\tTrain LOSS: \t116.5201 \t\tVal LOSS: \t139.0318\n",
            "[EP \t165] \t\tTrain LOSS: \t116.9904 \t\tVal LOSS: \t143.2977\n",
            "[EP \t170] \t\tTrain LOSS: \t117.0265 \t\tVal LOSS: \t143.6168\n",
            "[EP \t175] \t\tTrain LOSS: \t118.3801 \t\tVal LOSS: \t161.1746\n",
            "[EP \t180] \t\tTrain LOSS: \t116.8554 \t\tVal LOSS: \t125.8396\n",
            "[EP \t185] \t\tTrain LOSS: \t119.5990 \t\tVal LOSS: \t130.4547\n",
            "[EP \t190] \t\tTrain LOSS: \t116.5863 \t\tVal LOSS: \t130.5267\n",
            "[EP \t195] \t\tTrain LOSS: \t119.8990 \t\tVal LOSS: \t120.2489\n",
            "[EP \t200] \t\tTrain LOSS: \t116.8305 \t\tVal LOSS: \t146.4026\n"
          ]
        },
        {
          "output_type": "display_data",
          "data": {
            "image/png": "[encoded data removed]",
            "text/plain": [
              "<Figure size 432x288 with 1 Axes>"
            ]
          },
          "metadata": {
            "needs_background": "light"
          }
        }
      ]
    },
    {
      "cell_type": "code",
      "metadata": {
        "colab": {
          "base_uri": "https://localhost:8080/",
          "height": 620
        },
        "id": "zjOCmZ9sSfKb",
        "outputId": "f6e17f33-7aad-4430-bb2b-ee28a1b2a8ca"
      },
      "source": [
        "train_set = R_Net_Dataset(split=0)\n",
        "val_set = R_Net_Dataset(split=1)\n",
        "\n",
        "random.seed(1)\n",
        "np.random.seed(1)\n",
        "r_net = R_Net(dropout=0.2, num_layers=2);\n",
        "r_net.double()\n",
        "loss_fn = nn.L1Loss()\n",
        "batch_size, n_epoch, lr = 32, 100, 1e-3\n",
        "train_size, val_size = 365, 365\n",
        "argmin_loss = train(r_net, train_set, val_set, loss_fn, batch_size, lr, n_epoch, train_size, name='r_net')"
      ],
      "execution_count": 71,
      "outputs": [
        {
          "output_type": "stream",
          "name": "stdout",
          "text": [
            "[EP \t5] \t\tTrain LOSS: \t1105.4260 \t\tVal LOSS: \t1122.0429\n",
            "[EP \t10] \t\tTrain LOSS: \t947.3739 \t\tVal LOSS: \t1031.3291\n",
            "[EP \t15] \t\tTrain LOSS: \t713.7266 \t\tVal LOSS: \t828.3786\n",
            "[EP \t20] \t\tTrain LOSS: \t427.8512 \t\tVal LOSS: \t548.3800\n",
            "[EP \t25] \t\tTrain LOSS: \t218.4235 \t\tVal LOSS: \t218.8912\n",
            "[EP \t30] \t\tTrain LOSS: \t175.3992 \t\tVal LOSS: \t200.0650\n",
            "[EP \t35] \t\tTrain LOSS: \t136.0524 \t\tVal LOSS: \t133.3362\n",
            "[EP \t40] \t\tTrain LOSS: \t127.5542 \t\tVal LOSS: \t130.4331\n",
            "[EP \t45] \t\tTrain LOSS: \t123.6630 \t\tVal LOSS: \t127.1535\n",
            "[EP \t50] \t\tTrain LOSS: \t121.5302 \t\tVal LOSS: \t170.7519\n",
            "[EP \t55] \t\tTrain LOSS: \t121.2027 \t\tVal LOSS: \t132.7282\n",
            "[EP \t60] \t\tTrain LOSS: \t121.6647 \t\tVal LOSS: \t123.7711\n",
            "[EP \t65] \t\tTrain LOSS: \t118.5754 \t\tVal LOSS: \t141.0749\n",
            "[EP \t70] \t\tTrain LOSS: \t118.1851 \t\tVal LOSS: \t127.0993\n",
            "[EP \t75] \t\tTrain LOSS: \t118.4239 \t\tVal LOSS: \t100.8172\n",
            "[EP \t80] \t\tTrain LOSS: \t120.3547 \t\tVal LOSS: \t133.7276\n",
            "[EP \t85] \t\tTrain LOSS: \t118.1847 \t\tVal LOSS: \t106.4873\n",
            "[EP \t90] \t\tTrain LOSS: \t119.2641 \t\tVal LOSS: \t115.0138\n",
            "[EP \t95] \t\tTrain LOSS: \t116.2775 \t\tVal LOSS: \t120.1269\n",
            "[EP \t100] \t\tTrain LOSS: \t118.3548 \t\tVal LOSS: \t92.2484\n"
          ]
        },
        {
          "output_type": "display_data",
          "data": {
            "image/png": "[encoded data removed]",
            "text/plain": [
              "<Figure size 432x288 with 1 Axes>"
            ]
          },
          "metadata": {
            "needs_background": "light"
          }
        }
      ]
    },
    {
      "cell_type": "code",
      "metadata": {
        "id": "Yb1pdxmYnuWc"
      },
      "source": [
        "net = R_Net()\n",
        "test_set = R_Net_Dataset(split=2)\n",
        "test_loss = test(net, loss_fn, test_set, batch_size, lr, epoch=argmin_loss, name='r_net')\n",
        "print(\"Test LOSS: \\t%.4f\" % (test_loss))"
      ],
      "execution_count": null,
      "outputs": []
    },
    {
      "cell_type": "markdown",
      "metadata": {
        "id": "n-2OsvBCG4w2"
      },
      "source": [
        "# RSkip_Net"
      ]
    },
    {
      "cell_type": "code",
      "metadata": {
        "id": "Kh7In24SG4xA"
      },
      "source": [
        "class RSkip_Net(nn.Module):\n",
        "    def __init__(self, input_size=18, hidden_size=64, dropout=0, num_layers=1):\n",
        "        super(RSkip_Net, self).__init__()\n",
        "\n",
        "        self.lstm = nn.LSTM(\n",
        "            input_size=input_size,\n",
        "            hidden_size=hidden_size,\n",
        "            num_layers=num_layers,\n",
        "            dropout=dropout,\n",
        "            batch_first=True\n",
        "        )\n",
        "        self.fc1 = nn.Linear(18+hidden_size, 8)\n",
        "        self.bn1 = nn.BatchNorm1d(8, affine=True)\n",
        "        self.fc2 = nn.Linear(8, 1)\n",
        "        self.relu = nn.ReLU(inplace=True)\n",
        " \n",
        "    def forward(self, x):\n",
        "        x2, _ = self.lstm(x.double())\n",
        "\n",
        "        x = self.fc1(torch.cat([x2[:,-1], x[:,-1]], axis=1))\n",
        "        x = self.bn1(x)\n",
        "        x = self.relu(x)\n",
        "\n",
        "        x = self.fc2(x)\n",
        "        x = self.relu(x)\n",
        "        \n",
        "        return x"
      ],
      "execution_count": 36,
      "outputs": []
    },
    {
      "cell_type": "code",
      "metadata": {
        "colab": {
          "base_uri": "https://localhost:8080/",
          "height": 1000
        },
        "id": "1FXl6XxcG4xA",
        "outputId": "188e04f5-0d8f-458a-add1-800eca89ab97"
      },
      "source": [
        "train_set = R_Net_Dataset(split=0)\n",
        "val_set = R_Net_Dataset(split=1)\n",
        "\n",
        "random.seed(1)\n",
        "np.random.seed(1)\n",
        "rskip_net = RSkip_Net();\n",
        "rskip_net.double()\n",
        "loss_fn = nn.L1Loss()\n",
        "batch_size, n_epoch, lr = 32, 250, 1e-3\n",
        "train_size, val_size = 365, 365\n",
        "argmin_loss = train(rskip_net, train_set, val_set, loss_fn, batch_size, lr, n_epoch, train_size, name='rskip_net')"
      ],
      "execution_count": 38,
      "outputs": [
        {
          "output_type": "stream",
          "name": "stdout",
          "text": [
            "[EP \t5] \t\tTrain LOSS: \t1106.3106 \t\tVal LOSS: \t1145.6067\n",
            "[EP \t10] \t\tTrain LOSS: \t974.8081 \t\tVal LOSS: \t1104.0130\n",
            "[EP \t15] \t\tTrain LOSS: \t847.0956 \t\tVal LOSS: \t1082.6816\n",
            "[EP \t20] \t\tTrain LOSS: \t699.5915 \t\tVal LOSS: \t945.7189\n",
            "[EP \t25] \t\tTrain LOSS: \t534.8691 \t\tVal LOSS: \t821.3889\n",
            "[EP \t30] \t\tTrain LOSS: \t367.5295 \t\tVal LOSS: \t369.2954\n",
            "[EP \t35] \t\tTrain LOSS: \t228.9226 \t\tVal LOSS: \t224.2055\n",
            "[EP \t40] \t\tTrain LOSS: \t137.4301 \t\tVal LOSS: \t220.7560\n",
            "[EP \t45] \t\tTrain LOSS: \t101.4282 \t\tVal LOSS: \t183.2497\n",
            "[EP \t50] \t\tTrain LOSS: \t89.9528 \t\tVal LOSS: \t194.2978\n",
            "[EP \t55] \t\tTrain LOSS: \t85.7938 \t\tVal LOSS: \t80.3464\n",
            "[EP \t60] \t\tTrain LOSS: \t82.6982 \t\tVal LOSS: \t130.4365\n",
            "[EP \t65] \t\tTrain LOSS: \t80.9889 \t\tVal LOSS: \t92.6038\n",
            "[EP \t70] \t\tTrain LOSS: \t80.9955 \t\tVal LOSS: \t206.9602\n",
            "[EP \t75] \t\tTrain LOSS: \t79.7603 \t\tVal LOSS: \t80.1030\n",
            "[EP \t80] \t\tTrain LOSS: \t80.0014 \t\tVal LOSS: \t85.4291\n",
            "[EP \t85] \t\tTrain LOSS: \t79.9678 \t\tVal LOSS: \t122.7104\n",
            "[EP \t90] \t\tTrain LOSS: \t79.7839 \t\tVal LOSS: \t148.4508\n",
            "[EP \t95] \t\tTrain LOSS: \t79.2226 \t\tVal LOSS: \t178.8656\n",
            "[EP \t100] \t\tTrain LOSS: \t79.1839 \t\tVal LOSS: \t89.6441\n",
            "[EP \t105] \t\tTrain LOSS: \t78.5085 \t\tVal LOSS: \t73.7984\n",
            "[EP \t110] \t\tTrain LOSS: \t78.2878 \t\tVal LOSS: \t73.4750\n",
            "[EP \t115] \t\tTrain LOSS: \t79.7940 \t\tVal LOSS: \t101.0775\n",
            "[EP \t120] \t\tTrain LOSS: \t79.0482 \t\tVal LOSS: \t72.1882\n",
            "[EP \t125] \t\tTrain LOSS: \t78.4418 \t\tVal LOSS: \t82.5379\n",
            "[EP \t130] \t\tTrain LOSS: \t79.7293 \t\tVal LOSS: \t76.7646\n",
            "[EP \t135] \t\tTrain LOSS: \t79.5828 \t\tVal LOSS: \t73.7764\n",
            "[EP \t140] \t\tTrain LOSS: \t78.9110 \t\tVal LOSS: \t77.9373\n",
            "[EP \t145] \t\tTrain LOSS: \t77.8015 \t\tVal LOSS: \t73.9477\n",
            "[EP \t150] \t\tTrain LOSS: \t78.9608 \t\tVal LOSS: \t77.1220\n",
            "[EP \t155] \t\tTrain LOSS: \t79.1464 \t\tVal LOSS: \t76.3473\n",
            "[EP \t160] \t\tTrain LOSS: \t80.0235 \t\tVal LOSS: \t71.6940\n",
            "[EP \t165] \t\tTrain LOSS: \t77.9063 \t\tVal LOSS: \t76.0307\n",
            "[EP \t170] \t\tTrain LOSS: \t79.2654 \t\tVal LOSS: \t73.0321\n",
            "[EP \t175] \t\tTrain LOSS: \t79.2844 \t\tVal LOSS: \t125.8503\n",
            "[EP \t180] \t\tTrain LOSS: \t80.3957 \t\tVal LOSS: \t79.3471\n",
            "[EP \t185] \t\tTrain LOSS: \t79.0159 \t\tVal LOSS: \t71.2302\n",
            "[EP \t190] \t\tTrain LOSS: \t77.7659 \t\tVal LOSS: \t91.1612\n",
            "[EP \t195] \t\tTrain LOSS: \t77.0973 \t\tVal LOSS: \t74.9569\n",
            "[EP \t200] \t\tTrain LOSS: \t78.6444 \t\tVal LOSS: \t107.0919\n",
            "[EP \t205] \t\tTrain LOSS: \t78.7825 \t\tVal LOSS: \t124.0656\n",
            "[EP \t210] \t\tTrain LOSS: \t78.0743 \t\tVal LOSS: \t95.4961\n",
            "[EP \t215] \t\tTrain LOSS: \t77.1856 \t\tVal LOSS: \t80.8375\n",
            "[EP \t220] \t\tTrain LOSS: \t81.3109 \t\tVal LOSS: \t80.7099\n",
            "[EP \t225] \t\tTrain LOSS: \t78.1766 \t\tVal LOSS: \t85.4353\n",
            "[EP \t230] \t\tTrain LOSS: \t79.0441 \t\tVal LOSS: \t96.6656\n",
            "[EP \t235] \t\tTrain LOSS: \t79.2650 \t\tVal LOSS: \t73.4199\n",
            "[EP \t240] \t\tTrain LOSS: \t79.6042 \t\tVal LOSS: \t84.1394\n",
            "[EP \t245] \t\tTrain LOSS: \t79.7965 \t\tVal LOSS: \t79.9322\n",
            "[EP \t250] \t\tTrain LOSS: \t79.1888 \t\tVal LOSS: \t74.1884\n"
          ]
        },
        {
          "output_type": "display_data",
          "data": {
            "image/png": "[encoded data removed]",
            "text/plain": [
              "<Figure size 432x288 with 1 Axes>"
            ]
          },
          "metadata": {
            "needs_background": "light"
          }
        }
      ]
    },
    {
      "cell_type": "code",
      "metadata": {
        "id": "IcvpQSPyG4xB"
      },
      "source": [
        "net = R_Net()\n",
        "test_set = R_Net_Dataset(split=2)\n",
        "test_loss = test(net, loss_fn, test_set, batch_size, lr, epoch=argmin_loss, name='r_net')\n",
        "print(\"Test LOSS: \\t%.4f\" % (test_loss))"
      ],
      "execution_count": null,
      "outputs": []
    },
    {
      "cell_type": "markdown",
      "metadata": {
        "id": "AprDSL4TlZJa"
      },
      "source": [
        "# MB_Net"
      ]
    },
    {
      "cell_type": "code",
      "metadata": {
        "colab": {
          "base_uri": "https://localhost:8080/"
        },
        "id": "cnOarW-lm0C4",
        "outputId": "582e92e8-fe73-47b9-c141-aec2390839cd"
      },
      "source": [
        "    def __getitem__(self, idx):\n",
        "        min_start = self.window_size+1\n",
        "        max_start = len(self.data)-1 - self.eval_len\n",
        "        idx = np.random.randint(min_start, max_start)\n",
        "        prev_nat_demand = np.reshape(self.data[idx-1 - self.window_size: idx-1, 0], (-1,1))\n",
        "        curr_feat = np.concatenate((prev_nat_demand, self.data[idx - self.window_size: idx, 1:]), axis=1)\n",
        "        curr_nat_demand = np.reshape(self.data[idx, 0], -1)\n",
        "        return curr_feat, curr_nat_demand\n",
        "\n",
        "class MB_Net_Dataset(Dataset):\n",
        "    def __init__(self, split, eval_len=1, mb_len=5, window_size=5, csv_dir='dataset/train.csv'):\n",
        "        \"\"\"\n",
        "        Keyword arguments:\n",
        "        split -- an integer either 0, 1, or 2 which indicates train, validation, or test respectively\n",
        "        eval_len -- an integer indicating the number of future timestamp to be predicted\n",
        "        \"\"\"\n",
        "        super(MB_Net_Dataset, self).__init__()\n",
        "        df = pd.read_csv(csv_dir)\n",
        "        df['datetime']=pd.to_datetime(df['datetime'])\n",
        "        df['week_day']=df['datetime'].dt.dayofweek\n",
        "        # df['date']=df['datetime'].dt.day\n",
        "        # df['month']=df['datetime'].dt.month\n",
        "        df['hour']=df['datetime'].dt.hour\n",
        "        df = df.drop(columns=\"datetime\")\n",
        "        data = np.split(df, [int(.7*len(df)), int(.85*len(df))])\n",
        "        self.data = np.array(data[split])\n",
        "        self.eval_len = eval_len\n",
        "        self.window_size = window_size\n",
        "        self.mb_len = mb_len\n",
        "\n",
        "    def __getitem__(self, idx):\n",
        "        min_start = 1 + self.window_size + self.mb_len\n",
        "        max_start = len(self.data)-1 - self.eval_len\n",
        "        idx = np.random.randint(min_start, max_start)\n",
        "        prev_nat_demand = np.reshape(self.data[idx-1 - self.window_size - self.mb_len: idx-1, 0], (-1,1))\n",
        "        curr_feat = np.concatenate((prev_nat_demand, self.data[idx - self.window_size - self.mb_len: idx, 1:]), axis=1)\n",
        "        curr_nat_demand = np.reshape(self.data[idx, 0], -1)\n",
        "        return torch.tensor(curr_feat, dtype=torch.float64), torch.tensor(curr_nat_demand, dtype=torch.float64)\n",
        "\n",
        "    def __len__(self):\n",
        "        return len(self.data)\n",
        "\n",
        "a = MB_Net_Dataset(split=0)\n",
        "for i, (x,y) in enumerate(DataLoader(a, batch_size=1)):\n",
        "    print(x.shape)\n",
        "    print(y.shape)\n",
        "    break"
      ],
      "execution_count": null,
      "outputs": [
        {
          "output_type": "stream",
          "name": "stdout",
          "text": [
            "torch.Size([1, 25, 18])\n",
            "torch.Size([1, 1])\n"
          ]
        }
      ]
    },
    {
      "cell_type": "code",
      "metadata": {
        "id": "k1Nb6mEcnL4j"
      },
      "source": [
        "class MB_Net(nn.Module):\n",
        "    def __init__(self, input_size=18, hidden_size=32, dropout=0, num_layers=1):\n",
        "        super(R_Net, self).__init__()\n",
        "\n",
        "        self.lstm = nn.LSTM(\n",
        "            input_size=input_size,\n",
        "            hidden_size=hidden_size,\n",
        "            num_layers=num_layers,\n",
        "            dropout=dropout,\n",
        "            batch_first=True\n",
        "        )\n",
        "        self.fc1 = nn.Linear(hidden_size, 1)\n",
        "        self.relu = nn.ReLU(inplace=True)\n",
        " \n",
        "    def forward(self, x):\n",
        "        x, _ = self.lstm(x.double())\n",
        "        x = self.fc1(x[:,-1])\n",
        "        x = self.relu(x)\n",
        "        \n",
        "        return x"
      ],
      "execution_count": null,
      "outputs": []
    }
  ]
}